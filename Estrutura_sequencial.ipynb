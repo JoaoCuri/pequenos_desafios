{
  "nbformat": 4,
  "nbformat_minor": 0,
  "metadata": {
    "colab": {
      "name": "Estrutura sequencial.ipynb",
      "provenance": [],
      "authorship_tag": "ABX9TyMf3qQcMXEFgQdWz2s+NOMJ",
      "include_colab_link": true
    },
    "kernelspec": {
      "name": "python3",
      "display_name": "Python 3"
    }
  },
  "cells": [
    {
      "cell_type": "markdown",
      "metadata": {
        "id": "view-in-github",
        "colab_type": "text"
      },
      "source": [
        "<a href=\"https://colab.research.google.com/github/JoaoCuri/pequenos_desafios/blob/master/Estrutura_sequencial.ipynb\" target=\"_parent\"><img src=\"https://colab.research.google.com/assets/colab-badge.svg\" alt=\"Open In Colab\"/></a>"
      ]
    },
    {
      "cell_type": "markdown",
      "metadata": {
        "id": "Mvf-Xz2pETJs",
        "colab_type": "text"
      },
      "source": [
        "### Resposta dos exercícios propostos na pagina python brasil\n",
        "\n",
        "1.Faça um Programa que mostre a mensagem \"Olá mundo\" na tela.\n"
      ]
    },
    {
      "cell_type": "code",
      "metadata": {
        "id": "xoui-hdrEdzh",
        "colab_type": "code",
        "colab": {
          "base_uri": "https://localhost:8080/",
          "height": 34
        },
        "outputId": "2e003031-3075-48b1-c897-d61f83561f03"
      },
      "source": [
        "print('olá mundo')"
      ],
      "execution_count": null,
      "outputs": [
        {
          "output_type": "stream",
          "text": [
            "olá mundo\n"
          ],
          "name": "stdout"
        }
      ]
    },
    {
      "cell_type": "markdown",
      "metadata": {
        "id": "hXKwQjBDFanc",
        "colab_type": "text"
      },
      "source": [
        "2.Faça um Programa que peça um número e então mostre a mensagem O número informado foi [número]."
      ]
    },
    {
      "cell_type": "code",
      "metadata": {
        "id": "4UzQsfIfEjwx",
        "colab_type": "code",
        "colab": {
          "base_uri": "https://localhost:8080/",
          "height": 51
        },
        "outputId": "44808fdd-d6a5-4bde-fce2-485f8763ff29"
      },
      "source": [
        "numero = input('digite um numero ')\n",
        "print('o número informado é',numero)"
      ],
      "execution_count": null,
      "outputs": [
        {
          "output_type": "stream",
          "text": [
            "digite um numero 5\n",
            "o número informado é 5\n"
          ],
          "name": "stdout"
        }
      ]
    },
    {
      "cell_type": "markdown",
      "metadata": {
        "id": "CapWStQdGyXq",
        "colab_type": "text"
      },
      "source": [
        "3.Faça um Programa que peça dois números e imprima a soma."
      ]
    },
    {
      "cell_type": "code",
      "metadata": {
        "id": "u2NX-oxIE3lC",
        "colab_type": "code",
        "colab": {
          "base_uri": "https://localhost:8080/",
          "height": 68
        },
        "outputId": "523de8b9-e715-44ba-a400-96e9e51fffc5"
      },
      "source": [
        "a = int(input())\n",
        "b = int(input())\n",
        "\n",
        "print('a soma é ',a + b)\n"
      ],
      "execution_count": null,
      "outputs": [
        {
          "output_type": "stream",
          "text": [
            "3\n",
            "5\n",
            "a soma é  8\n"
          ],
          "name": "stdout"
        }
      ]
    },
    {
      "cell_type": "markdown",
      "metadata": {
        "id": "eya1JPtrHOmN",
        "colab_type": "text"
      },
      "source": [
        "4.Faça um Programa que peça as 4 notas bimestrais e mostre a média"
      ]
    },
    {
      "cell_type": "code",
      "metadata": {
        "id": "qrNemcnFFfSC",
        "colab_type": "code",
        "colab": {
          "base_uri": "https://localhost:8080/",
          "height": 102
        },
        "outputId": "a5f67695-7037-4ffc-a585-e5ef6b839812"
      },
      "source": [
        "nota1 = float(input())\n",
        "nota2 = float(input())\n",
        "nota3 = float(input())\n",
        "nota4 = float(input())\n",
        "\n",
        "list =(nota1,nota2,nota3,nota4)\n",
        "media = sum(list)/len(list)\n",
        "print('a média é de ',media)"
      ],
      "execution_count": null,
      "outputs": [
        {
          "output_type": "stream",
          "text": [
            "7.5\n",
            "8\n",
            "3\n",
            "6\n",
            "a média é de  6.125\n"
          ],
          "name": "stdout"
        }
      ]
    },
    {
      "cell_type": "markdown",
      "metadata": {
        "id": "VpgKHa81J3nk",
        "colab_type": "text"
      },
      "source": [
        "5.Faça um Programa que converta metros para centímetros."
      ]
    },
    {
      "cell_type": "code",
      "metadata": {
        "id": "Kx8GMIx-HVql",
        "colab_type": "code",
        "colab": {
          "base_uri": "https://localhost:8080/",
          "height": 68
        },
        "outputId": "815b6002-48e7-4e39-dd6c-23fa88eea344"
      },
      "source": [
        "metro = input(print('digite um valor em metro'))\n",
        "cm = float(metro)*100\n",
        "print('o valor de {} m equivale a {} em cm'.format(metro,cm))\n",
        "\n"
      ],
      "execution_count": null,
      "outputs": [
        {
          "output_type": "stream",
          "text": [
            "digite um valor em metro\n",
            "2.5\n",
            "o valor de 2.5 m equivale a 250.0 em cm\n"
          ],
          "name": "stdout"
        }
      ]
    },
    {
      "cell_type": "markdown",
      "metadata": {
        "id": "eB8mnrsZMD9G",
        "colab_type": "text"
      },
      "source": [
        "6.Faça um Programa que peça o raio de um círculo, calcule e mostre sua área."
      ]
    },
    {
      "cell_type": "code",
      "metadata": {
        "id": "eDEeUtgiJ4-X",
        "colab_type": "code",
        "colab": {
          "base_uri": "https://localhost:8080/",
          "height": 68
        },
        "outputId": "4dc2fe33-aef5-4da6-db4b-3c38aa682f30"
      },
      "source": [
        "raio = input(print('digite o raio'))\n",
        "PI = 3.14\n",
        "area = PI*float(raio)**2\n",
        "print('a área é de ',area)"
      ],
      "execution_count": null,
      "outputs": [
        {
          "output_type": "stream",
          "text": [
            "digite o raio\n",
            "5\n",
            "a área é de  78.5\n"
          ],
          "name": "stdout"
        }
      ]
    },
    {
      "cell_type": "markdown",
      "metadata": {
        "id": "vQiC2QyINfnT",
        "colab_type": "text"
      },
      "source": [
        "7.Faça um Programa que calcule a área de um quadrado, em seguida mostre o dobro desta área para o usuário"
      ]
    },
    {
      "cell_type": "code",
      "metadata": {
        "id": "unDKtvIjM-4i",
        "colab_type": "code",
        "colab": {
          "base_uri": "https://localhost:8080/",
          "height": 68
        },
        "outputId": "848602ce-dee8-47a8-fc7b-4bd66034c126"
      },
      "source": [
        "lado = input(print('digite a medida do lado do quadrado'))\n",
        "areaq= float(lado)**2\n",
        "print(' a area do quadrado é de {} e o dobro é de {}'.format(areaq,2*areaq))"
      ],
      "execution_count": null,
      "outputs": [
        {
          "output_type": "stream",
          "text": [
            "digite a medida do lado do quadrado\n",
            "4\n",
            " a area do quadrado é de 16.0 e o dobro é de 32.0\n"
          ],
          "name": "stdout"
        }
      ]
    },
    {
      "cell_type": "markdown",
      "metadata": {
        "id": "ENANDwInOmrY",
        "colab_type": "text"
      },
      "source": [
        "8.Faça um Programa que pergunte quanto você ganha por hora e o número de horas trabalhadas no mês. Calcule e mostre o total do seu salário no referido mês."
      ]
    },
    {
      "cell_type": "code",
      "metadata": {
        "id": "EX1QAGJRObsF",
        "colab_type": "code",
        "colab": {
          "base_uri": "https://localhost:8080/",
          "height": 102
        },
        "outputId": "ed97f61a-80c5-4ed0-f484-b82be7c37ae6"
      },
      "source": [
        "valor = input(print('quanto você ganha por hora'))\n",
        "horast= input(print('quantas horas você trabalhou'))\n",
        "salario= float(valor)*float(horast)\n",
        "print('seu salário é de ',salario)\n"
      ],
      "execution_count": null,
      "outputs": [
        {
          "output_type": "stream",
          "text": [
            "quanto você ganha por hora\n",
            "8\n",
            "quantas horas você trabalhou\n",
            "30\n",
            "seu salário é de  240.0\n"
          ],
          "name": "stdout"
        }
      ]
    },
    {
      "cell_type": "markdown",
      "metadata": {
        "id": "ZKveBMlEQQlZ",
        "colab_type": "text"
      },
      "source": [
        "9.Faça um Programa que peça a temperatura em graus Fahrenheit, transforme e mostre a temperatura em graus Celsius"
      ]
    },
    {
      "cell_type": "code",
      "metadata": {
        "id": "1fo_wbTVQBeo",
        "colab_type": "code",
        "colab": {
          "base_uri": "https://localhost:8080/",
          "height": 51
        },
        "outputId": "8f4f06a2-e0b6-407f-85f6-48d3685e299e"
      },
      "source": [
        "tempF = input('digite a temperatura em graus Fahrenheit ')\n",
        "tempC = 5*(float(tempF)-32)/9\n",
        "tempC_arrd = round(tempC)\n",
        "print('a temperatura de {}F correponte a aproximadamente {}C'.format(tempF,tempC_arrd))"
      ],
      "execution_count": null,
      "outputs": [
        {
          "output_type": "stream",
          "text": [
            "digite a temperatura em graus Fahrenheit 150\n",
            "a temperatura de 150F correponte a aproximadamente 66C\n"
          ],
          "name": "stdout"
        }
      ]
    },
    {
      "cell_type": "markdown",
      "metadata": {
        "id": "2nvgwaEyb94L",
        "colab_type": "text"
      },
      "source": [
        "10.Faça um Programa que peça a temperatura em graus Celsius, transforme e mostre em graus Fahrenheit."
      ]
    },
    {
      "cell_type": "code",
      "metadata": {
        "id": "uIuNFCReXnQI",
        "colab_type": "code",
        "colab": {
          "base_uri": "https://localhost:8080/",
          "height": 51
        },
        "outputId": "56a9dfc1-9716-4113-d59a-7a9a1ddffdd7"
      },
      "source": [
        "tempc = input('digite a temperatura em Celsius ')\n",
        "tempf = (160 + 9*float(tempc))/5\n",
        "print('a temperatura é de {}F'.format(tempf))"
      ],
      "execution_count": null,
      "outputs": [
        {
          "output_type": "stream",
          "text": [
            "digite a temperatura em Celsius 36\n",
            "a temperatura é de 96.8F\n"
          ],
          "name": "stdout"
        }
      ]
    },
    {
      "cell_type": "markdown",
      "metadata": {
        "id": "Oto9T5mTmb7g",
        "colab_type": "text"
      },
      "source": [
        "11.Faça um Programa que peça 2 números inteiros e um número real. Calcule e mostre:\n",
        ">a.o produto do dobro do primeiro com metade do segundo.\n",
        "b.a soma do triplo do primeiro com o terceiro.\n",
        "c.o terceiro elevado ao cubo."
      ]
    },
    {
      "cell_type": "code",
      "metadata": {
        "id": "QPQ8o59wl33m",
        "colab_type": "code",
        "colab": {
          "base_uri": "https://localhost:8080/",
          "height": 136
        },
        "outputId": "19939406-aa53-4e7e-eb59-2b3955f13b45"
      },
      "source": [
        "x1=int(input('digite um numero inteio\\n '))\n",
        "x2=int(input('digite outro numero inteio,pode ser o mesmo\\n '))\n",
        "R=float(input('digite um número real\\n '))\n",
        "\n",
        "a = (x1*2)*(x2/2)\n",
        "b = (x1*3)+R\n",
        "c = R**3\n",
        "print('as respostas dos itens a, b e c são respectivamente ',a,b,c)\n"
      ],
      "execution_count": null,
      "outputs": [
        {
          "output_type": "stream",
          "text": [
            "digite um numero inteio\n",
            " 5\n",
            "digite outro numero inteio,pode ser o mesmo\n",
            " 3\n",
            "digite um número real\n",
            " 2\n",
            "as respostas dos itens a, b e c são respectivamente  15.0 17.0 8.0\n"
          ],
          "name": "stdout"
        }
      ]
    },
    {
      "cell_type": "markdown",
      "metadata": {
        "id": "5XHAxfap0kjl",
        "colab_type": "text"
      },
      "source": [
        "12. Tendo como dados de entrada a altura de uma pessoa, construa um algoritmo que calcule seu peso ideal, usando a seguinte fórmula: (72.7*altura) - 58\n"
      ]
    },
    {
      "cell_type": "code",
      "metadata": {
        "id": "QhhKUL2CyDnE",
        "colab_type": "code",
        "colab": {
          "base_uri": "https://localhost:8080/",
          "height": 51
        },
        "outputId": "3d4bfcf1-ab5b-4ef5-e028-d177009c955b"
      },
      "source": [
        "altura = float(input('digite sua altura '))\n",
        "pideal=(72.7*altura)-58\n",
        "print('seu peso ideal é de ',pideal)"
      ],
      "execution_count": null,
      "outputs": [
        {
          "output_type": "stream",
          "text": [
            "digite sua altura 1.70\n",
            "seu peso ideal é de  65.59\n"
          ],
          "name": "stdout"
        }
      ]
    },
    {
      "cell_type": "markdown",
      "metadata": {
        "id": "36zaEQGJ2CcK",
        "colab_type": "text"
      },
      "source": [
        "13.Tendo como dado de entrada a altura (h) de uma pessoa, construa um algoritmo que calcule seu peso ideal, utilizando as seguintes fórmulas:\n",
        "a.Para homens: (72.7*h) - 58\n",
        "b.Para mulheres: (62.1*h) - 44.7"
      ]
    },
    {
      "cell_type": "code",
      "metadata": {
        "id": "ujxs1uGt1rBp",
        "colab_type": "code",
        "colab": {
          "base_uri": "https://localhost:8080/",
          "height": 68
        },
        "outputId": "c837f10c-6568-469f-f455-5fc59f6666ec"
      },
      "source": [
        "sexo=input('digite seu sexo M ou F: ')\n",
        "altura = float(input('digite sua altura '))\n",
        "if sexo == 'M':\n",
        "  pidealm=(72.7*altura)-58\n",
        "  print('seu peso ideal é de ',pideal)\n",
        "else:\n",
        "  pidealf=pideal=(62.1*altura)-44.7\n",
        "  print('seu peso ideal é de ',pidealf)"
      ],
      "execution_count": null,
      "outputs": [
        {
          "output_type": "stream",
          "text": [
            "digite seu sexo M ou F: F\n",
            "digite sua altura 1.5\n",
            "seu peso ideal é de  48.45\n"
          ],
          "name": "stdout"
        }
      ]
    },
    {
      "cell_type": "markdown",
      "metadata": {
        "id": "drj002R74bpB",
        "colab_type": "text"
      },
      "source": [
        "14.João Papo-de-Pescador, homem de bem, comprou um microcomputador para controlar o rendimento diário de seu trabalho. Toda vez que ele traz um peso de peixes maior que o estabelecido pelo regulamento de pesca do estado de São Paulo (50 quilos) deve pagar uma multa de R$ 4,00 por quilo excedente. João precisa que você faça um programa que leia a variável peso (peso de peixes) e calcule o excesso. Gravar na variável excesso a quantidade de quilos além do limite e na variável multa o valor da multa que João deverá pagar. Imprima os dados do programa com as mensagens adequadas."
      ]
    },
    {
      "cell_type": "code",
      "metadata": {
        "id": "LpUETl4c3Jkh",
        "colab_type": "code",
        "colab": {
          "base_uri": "https://localhost:8080/",
          "height": 51
        },
        "outputId": "06b6a40a-ffdf-44fb-dad3-f79fc08de9c0"
      },
      "source": [
        "peso_de_peixe=float(input('peso de peixes pescados :'))\n",
        "if peso_de_peixe > 50:\n",
        "  peso_exc=peso_de_peixe -50\n",
        "  multa=peso_exc*4\n",
        "  print('você excedeu o limite permitido\\n peso excedido ={}Kg\\n multa ={} reais'.format(peso_exc,multa))\n",
        "else:\n",
        "  print('hoje você não excedeu o limite de peso na pescaria')"
      ],
      "execution_count": null,
      "outputs": [
        {
          "output_type": "stream",
          "text": [
            "peso de peixes pescados :49\n",
            "hoje você não excedeu o limite de peso na pescaria\n"
          ],
          "name": "stdout"
        }
      ]
    },
    {
      "cell_type": "markdown",
      "metadata": {
        "id": "cqaIkpEJ68CI",
        "colab_type": "text"
      },
      "source": [
        "15.Faça um Programa que pergunte quanto você ganha por hora e o número de horas trabalhadas no mês. Calcule e mostre o total do seu salário no referido mês, sabendo-se que são descontados 11% para o Imposto de Renda, 8% para o INSS e 5% para o sindicato, faça um programa que nos dê:\n",
        "a.salário bruto.\n",
        "b.quanto pagou ao INSS.\n",
        "c.quanto pagou ao sindicato.\n",
        "d.o salário líquido.\n",
        "e.calcule os descontos e o salário líquido, conforme a tabela abaixo:"
      ]
    },
    {
      "cell_type": "code",
      "metadata": {
        "id": "rNhY2QO16UZb",
        "colab_type": "code",
        "colab": {
          "base_uri": "https://localhost:8080/",
          "height": 204
        },
        "outputId": "e1c20211-a545-42e7-8683-0907a0730ed4"
      },
      "source": [
        "valor=int(input(print('quanto você ganha por hora ?\\n')))\n",
        "horastb=int(input(print('qual foi o total de horas que trabalhou neste mês?\\n')))\n",
        "salariob = float(valor*horastb)\n",
        "IR=salariob*0.11\n",
        "INSS=salariob*.08\n",
        "sindicato=salariob*0.05\n",
        "salarioL=salariob-IR-INSS-sindicato\n",
        "print('salario bruto:{}\\n -IR:{}\\n -INSS:{}\\n -sindicato:{}\\n salario liquido:{}'.format(salariob,IR,INSS,sindicato,salarioL))"
      ],
      "execution_count": null,
      "outputs": [
        {
          "output_type": "stream",
          "text": [
            "quanto você ganha por hora ?\n",
            "\n",
            "10\n",
            "qual foi o total de horas que trabalhou neste mês?\n",
            "\n",
            "280\n",
            "salario bruto:2800.0\n",
            " -IR:308.0\n",
            " -INSS:224.0\n",
            " -sindicato:140.0\n",
            " salario liquido:2128.0\n"
          ],
          "name": "stdout"
        }
      ]
    },
    {
      "cell_type": "markdown",
      "metadata": {
        "id": "T5LTSuS-AANa",
        "colab_type": "text"
      },
      "source": [
        "16.Faça um programa para uma loja de tintas. O programa deverá pedir o tamanho em metros quadrados da área a ser pintada. Considere que a cobertura da tinta é de 1 litro para cada 3 metros quadrados e que a tinta é vendida em latas de 18 litros, que custam R$ 80,00. Informe ao usuário a quantidades de latas de tinta a serem compradas e o preço total.\n"
      ]
    },
    {
      "cell_type": "code",
      "metadata": {
        "id": "reD1EBT--8Yc",
        "colab_type": "code",
        "colab": {
          "base_uri": "https://localhost:8080/",
          "height": 51
        },
        "outputId": "46799459-2cf1-4695-d941-3abd0426ed7f"
      },
      "source": [
        "# aqui é interessabte importar a biblioteca math\n",
        "import math as mt\n",
        "mq=int(input('tamanho em metros quadrados da area a ser pintada '))\n",
        "l1 = float(mq/3)\n",
        "if l1<=18:\n",
        "  print('1 lata de tinta e o preço é de 80 reais')\n",
        "else:\n",
        "  x= mt.ceil(l1/18) # arredoda essa divisão p/cima\n",
        "  vlatas = x*80 \n",
        "  print('ira precisar de {} e o valor é de {} reais'.format(x,vlatas))\n",
        "\n",
        "   "
      ],
      "execution_count": null,
      "outputs": [
        {
          "output_type": "stream",
          "text": [
            "tamanho em metros quadrados da area a ser pintada20\n",
            "1 lata de tinta e o preço é de 80 reais\n"
          ],
          "name": "stdout"
        }
      ]
    },
    {
      "cell_type": "markdown",
      "metadata": {
        "id": "H-AmnLz8IhOT",
        "colab_type": "text"
      },
      "source": [
        "17.Faça um Programa para uma loja de tintas. O programa deverá pedir o tamanho em metros quadrados da área a ser pintada. Considere que a cobertura da tinta é de 1 litro para cada 6 metros quadrados e que a tinta é vendida em latas de 18 litros, que custam R$ 80,00 ou em galões de 3,6 litros, que custam R 25,00.\n",
        "Informe ao usuário as quantidades de tinta a serem compradas e os respectivos preços em 3 situações:\n",
        "comprar apenas latas de 18 litros;\n",
        "comprar apenas galões de 3,6 litros;\n",
        "misturar latas e galões, de forma que o desperdício de tinta seja menor. Acrescente 10% de folga e sempre arredonde os valores para cima, isto é, considere latas cheias."
      ]
    },
    {
      "cell_type": "code",
      "metadata": {
        "id": "vJlM6eAxG2X8",
        "colab_type": "code",
        "colab": {
          "base_uri": "https://localhost:8080/",
          "height": 68
        },
        "outputId": "9d7a9dc6-ba93-4a09-d96f-d126b5ba57d5"
      },
      "source": [
        "import math as mt\n",
        "from math import ceil, floor\n",
        "area = float(input('area em metros quadrados\\n'))\n",
        "litros = (area/6)\n",
        "\n",
        "latas = litros/18\n",
        "galoes = litros/3.6\n",
        "\n",
        "if litros > 18:\n",
        "  Teira = mt.floor(litros/18)\n",
        "  peq = mt.ceil(litros%3.6)*1.1\n",
        "  gra= mt.ceil(litros%18)*1.1\n",
        "  if litros%18 <= 18:\n",
        "    precisa= Teira + peq\n",
        "    preco = Teira*80 + peq*25\n",
        "    print('precisará de {}L e o valor é de {}'.format(precisa,preco))\n",
        "  else:\n",
        "    precisa= Teira + gra\n",
        "    preco = Teira*80 + gra*80\n",
        "    print('precisará de {}L e o valor é de {}'.format(precisa,preco))\n",
        "if litros >3.6 and litros <=18:\n",
        "  print('precisará de 1 lata de 18L e o preço é de 80 reais')# até aqui ok\n",
        "else:\n",
        "  print('precisará de 1 galão e o preço é de 25 reais')\n",
        "  \n",
        "\n",
        "\n",
        "\n",
        "\n",
        "\n",
        "\n",
        "\n",
        "\n"
      ],
      "execution_count": null,
      "outputs": [
        {
          "output_type": "stream",
          "text": [
            "area em metros quadrados\n",
            "2\n",
            "precisará de 1 galão e o preço é de 25 reais\n"
          ],
          "name": "stdout"
        }
      ]
    },
    {
      "cell_type": "markdown",
      "metadata": {
        "id": "yJF4u2NB92KX",
        "colab_type": "text"
      },
      "source": [
        "18.Faça um programa que peça o tamanho de um arquivo para download (em MB) e a velocidade de um link de Internet (em Mbps), calcule e informe o tempo aproximado de download do arquivo usando este link (em minutos)."
      ]
    },
    {
      "cell_type": "code",
      "metadata": {
        "id": "CadmwHmCMXIZ",
        "colab_type": "code",
        "colab": {
          "base_uri": "https://localhost:8080/",
          "height": 68
        },
        "outputId": "cabc84e4-2939-48fd-d971-b6e116a5a5c0"
      },
      "source": [
        "tamanho_do_arquivo=float(input('tamnho do arquivo em MB '))\n",
        "Velocidado_do_link=float(input('velocidade de download em megabits'))\n",
        "tempo = tamanho_do_arquivo/(Velocidado_do_link/8)\n",
        "print('vai demorar em {} segundos'.format(tempo))"
      ],
      "execution_count": null,
      "outputs": [
        {
          "output_type": "stream",
          "text": [
            "tamnho do arquivo em MB 200\n",
            "velocidade de download em megabits8\n",
            "vai demorar em 200.0 segundos\n"
          ],
          "name": "stdout"
        }
      ]
    },
    {
      "cell_type": "code",
      "metadata": {
        "id": "rRZySPyJMpsQ",
        "colab_type": "code",
        "colab": {}
      },
      "source": [
        ""
      ],
      "execution_count": null,
      "outputs": []
    }
  ]
}