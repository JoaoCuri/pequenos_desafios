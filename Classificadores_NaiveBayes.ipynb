{
  "nbformat": 4,
  "nbformat_minor": 0,
  "metadata": {
    "colab": {
      "name": "Classificadores_NaiveBayes.ipynb",
      "provenance": [],
      "authorship_tag": "ABX9TyNd97pTy2/pE0TTB1jaw/rC",
      "include_colab_link": true
    },
    "kernelspec": {
      "name": "python3",
      "display_name": "Python 3"
    }
  },
  "cells": [
    {
      "cell_type": "markdown",
      "metadata": {
        "id": "view-in-github",
        "colab_type": "text"
      },
      "source": [
        "<a href=\"https://colab.research.google.com/github/JoaoCuri/pequenos_desafios/blob/master/Classificadores_NaiveBayes.ipynb\" target=\"_parent\"><img src=\"https://colab.research.google.com/assets/colab-badge.svg\" alt=\"Open In Colab\"/></a>"
      ]
    },
    {
      "cell_type": "markdown",
      "metadata": {
        "id": "WmBnURVcdCvB"
      },
      "source": [
        "# Classificadores Naive Bayes"
      ]
    },
    {
      "cell_type": "markdown",
      "metadata": {
        "id": "7teeGpbedq8k"
      },
      "source": [
        "Naive Bayes é um método de machine learning pode ser usado para predizer a chance de um evento ocorrer, baseando-se nas evidências presentes nos seus dados.\n",
        "\n",
        "Probabilidade condicional:\n",
        "Existem 3 modelos \n",
        "\n",
        "* **Multinominal**: ótimo para quando suas variáveis(categóricas ou contínuas) discrevem frequências discretas (ex.: Contagem de palavras)\n",
        "* **Bernolli**: ótimo para fazer predições de variáveis binárias.\n",
        "* **Gaussiano**: ótimo para fazer predições de variáveis com distribuição normal.\n",
        "\n",
        "Pode ser usado para detecção de span, Classificação de usuários, predição de risco de credito e predição de risco a saúde."
      ]
    },
    {
      "cell_type": "markdown",
      "metadata": {
        "id": "SHSOMBRLgGuW"
      },
      "source": [
        "Pressupostos:\n",
        "As variáveis preditoras são independentes.\n",
        "\n",
        "Conhecimento a priori: pressupões que as prediçoes do passado ainda são validas.\n",
        "\n",
        "Que todos os modelos também mantêm um pressuposto da priori"
      ]
    },
    {
      "cell_type": "markdown",
      "metadata": {
        "id": "HFdzEyOfhE2M"
      },
      "source": [
        "**Aplicando modelos Bayesianos**"
      ]
    },
    {
      "cell_type": "code",
      "metadata": {
        "id": "Vbm7SbRmc8Za"
      },
      "source": [
        "import numpy as np\n",
        "import urllib\n",
        "\n",
        "import sklearn\n",
        "from sklearn.naive_bayes import BernoulliNB\n",
        "from sklearn.naive_bayes import GaussianNB\n",
        "from sklearn.naive_bayes import MultinomialNB\n",
        "from sklearn.model_selection import train_test_split\n",
        "from sklearn.metrics import accuracy_score"
      ],
      "execution_count": 12,
      "outputs": []
    },
    {
      "cell_type": "code",
      "metadata": {
        "id": "9VATu8O4hRfp",
        "outputId": "660019ec-2e97-4888-b4bc-65c93c3afc09",
        "colab": {
          "base_uri": "https://localhost:8080/"
        }
      },
      "source": [
        "url =('https://archive.ics.uci.edu/ml/machine-learning-databases/spambase/spambase.data')\n",
        "raw_data = urllib.request.urlopen(url)\n",
        "dados = np.loadtxt(raw_data,delimiter=',')\n",
        "print(dados[0])"
      ],
      "execution_count": 13,
      "outputs": [
        {
          "output_type": "stream",
          "text": [
            "[  0.      0.64    0.64    0.      0.32    0.      0.      0.      0.\n",
            "   0.      0.      0.64    0.      0.      0.      0.32    0.      1.29\n",
            "   1.93    0.      0.96    0.      0.      0.      0.      0.      0.\n",
            "   0.      0.      0.      0.      0.      0.      0.      0.      0.\n",
            "   0.      0.      0.      0.      0.      0.      0.      0.      0.\n",
            "   0.      0.      0.      0.      0.      0.      0.778   0.      0.\n",
            "   3.756  61.    278.      1.   ]\n"
          ],
          "name": "stdout"
        }
      ]
    },
    {
      "cell_type": "markdown",
      "metadata": {
        "id": "OEvVHFXZnWL7"
      },
      "source": [
        "# Naive Bayes"
      ]
    },
    {
      "cell_type": "markdown",
      "metadata": {
        "id": "llMfCwFwncNz"
      },
      "source": [
        "Usando Naive Bayes para predizer Spam"
      ]
    },
    {
      "cell_type": "code",
      "metadata": {
        "id": "WJaubH4Em_HR"
      },
      "source": [
        "X = dados[:,:48]\n",
        "y = dados [:,-1]"
      ],
      "execution_count": 14,
      "outputs": []
    },
    {
      "cell_type": "code",
      "metadata": {
        "id": "e1mwO8qon20a"
      },
      "source": [
        "X_treino,X_teste,y_treino,y_teste = train_test_split(X,y,test_size = .33, random_state = 17)"
      ],
      "execution_count": 15,
      "outputs": []
    },
    {
      "cell_type": "code",
      "metadata": {
        "id": "h-AeFhVCocad",
        "outputId": "a151e73c-7b73-446d-ca88-e82d09323873",
        "colab": {
          "base_uri": "https://localhost:8080/"
        }
      },
      "source": [
        "GaussNB = GaussianNB().fit(X_treino,y_treino)\n",
        "print(GaussNB)\n",
        "\n",
        "y_predito = GaussNB.predict(X_teste)\n",
        "print(accuracy_score(y_teste,y_predito))"
      ],
      "execution_count": 16,
      "outputs": [
        {
          "output_type": "stream",
          "text": [
            "GaussianNB(priors=None, var_smoothing=1e-09)\n",
            "0.8130348913759052\n"
          ],
          "name": "stdout"
        }
      ]
    },
    {
      "cell_type": "code",
      "metadata": {
        "id": "UIVnmrb_pTTm",
        "outputId": "5117cb08-c1d1-472c-d60f-198cba7cba71",
        "colab": {
          "base_uri": "https://localhost:8080/"
        }
      },
      "source": [
        "MultiNB = MultinomialNB().fit(X_treino,y_treino)\n",
        "print(MultiNB)\n",
        "\n",
        "y_predito = MultiNB.predict(X_teste)\n",
        "print(accuracy_score(y_teste,y_predito))"
      ],
      "execution_count": 20,
      "outputs": [
        {
          "output_type": "stream",
          "text": [
            "MultinomialNB(alpha=1.0, class_prior=None, fit_prior=True)\n",
            "0.8736010533245556\n"
          ],
          "name": "stdout"
        }
      ]
    },
    {
      "cell_type": "code",
      "metadata": {
        "id": "aAGzNWHO-pLl",
        "outputId": "d129923e-5b96-48a7-89c3-d3c0a0eb20cc",
        "colab": {
          "base_uri": "https://localhost:8080/"
        }
      },
      "source": [
        "bern = BernoulliNB(binarize=True).fit(X_treino,y_treino)\n",
        "print(bern)\n",
        "\n",
        "y_predito = bern.predict(X_teste)\n",
        "print(accuracy_score(y_teste,y_predito))"
      ],
      "execution_count": 22,
      "outputs": [
        {
          "output_type": "stream",
          "text": [
            "BernoulliNB(alpha=1.0, binarize=True, class_prior=None, fit_prior=True)\n",
            "0.8558262014483212\n"
          ],
          "name": "stdout"
        }
      ]
    },
    {
      "cell_type": "code",
      "metadata": {
        "id": "Mc_7FL3w_-h9",
        "outputId": "7b346cea-e1f5-4581-d172-deb846b5222e",
        "colab": {
          "base_uri": "https://localhost:8080/"
        }
      },
      "source": [
        "bern = BernoulliNB(binarize=.1).fit(X_treino,y_treino)\n",
        "print(bern)\n",
        "\n",
        "y_predito = bern.predict(X_teste)\n",
        "print(accuracy_score(y_teste,y_predito))"
      ],
      "execution_count": 23,
      "outputs": [
        {
          "output_type": "stream",
          "text": [
            "BernoulliNB(alpha=1.0, binarize=0.1, class_prior=None, fit_prior=True)\n",
            "0.8953258722843976\n"
          ],
          "name": "stdout"
        }
      ]
    }
  ]
}