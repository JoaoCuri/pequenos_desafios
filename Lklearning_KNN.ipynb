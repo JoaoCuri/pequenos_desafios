{
  "nbformat": 4,
  "nbformat_minor": 0,
  "metadata": {
    "colab": {
      "name": "Lklearning_KNN.ipynb",
      "provenance": [],
      "collapsed_sections": [],
      "authorship_tag": "ABX9TyNm9223FBIPlBZjkdX6QudS",
      "include_colab_link": true
    },
    "kernelspec": {
      "name": "python3",
      "display_name": "Python 3"
    }
  },
  "cells": [
    {
      "cell_type": "markdown",
      "metadata": {
        "id": "view-in-github",
        "colab_type": "text"
      },
      "source": [
        "<a href=\"https://colab.research.google.com/github/JoaoCuri/pequenos_desafios/blob/master/Lklearning_KNN.ipynb\" target=\"_parent\"><img src=\"https://colab.research.google.com/assets/colab-badge.svg\" alt=\"Open In Colab\"/></a>"
      ]
    },
    {
      "cell_type": "markdown",
      "metadata": {
        "id": "ThqfIgjQrvNu"
      },
      "source": [
        "**KNN**\n",
        "\n",
        "É um método supervisionado de machine learning que faz a classificação de observações baseado em um conjunto de dados de treino que já está classificada. Assim, ele tenta identificar novas observações com base naquelas em que foi treinado.\n",
        "\n",
        "Nós podemos usar KNN em vários casos. São alguns deles:\n",
        "\n",
        "1- predição de preços de ações.\n",
        "\n",
        "2- sistemas de recomendação\n",
        "\n",
        "3- análise de risco de crédito, e planejamento preditivo de viagens."
      ]
    },
    {
      "cell_type": "markdown",
      "metadata": {
        "id": "5N7kKCUXFjO9"
      },
      "source": [
        "Pressupostos:\n",
        "\n",
        "* Ter pouco ruído \n",
        "\n",
        "* conjunto de dados identificados\n",
        "\n",
        "* Conjunto de dados que só tem variáveis relevantes\n",
        "\n",
        "* Conjunto de dados com subgrupos claros\n",
        "\n",
        "Importante: Evite usar o KNN em conjuntos grandes. Possívelmente irá demorar bastante para rodar!"
      ]
    },
    {
      "cell_type": "code",
      "metadata": {
        "id": "XglZXh-hrpmz"
      },
      "source": [
        "import pandas as pd\n",
        "import numpy as np\n",
        "import seaborn as sns\n",
        "\n",
        "import matplotlib.pyplot as plt\n",
        "from matplotlib import rcParams\n",
        "from sklearn.neighbors import KNeighborsClassifier\n",
        "\n",
        "from sklearn import preprocessing\n",
        "from sklearn.model_selection import train_test_split\n",
        "from sklearn.metrics import classification_report\n"
      ],
      "execution_count": null,
      "outputs": []
    },
    {
      "cell_type": "code",
      "metadata": {
        "id": "BufK-lLtITl-"
      },
      "source": [
        "np.set_printoptions(precision=4,suppress=True)\n",
        "%matplotlib inline\n",
        "rcParams['figure.figsize'] = 7,4\n",
        "sns.set_style('whitegrid')"
      ],
      "execution_count": null,
      "outputs": []
    },
    {
      "cell_type": "code",
      "metadata": {
        "id": "7TDGJXfOKeSD",
        "outputId": "8e557d2b-8107-438d-8ba7-9dea0318bb5e",
        "colab": {
          "base_uri": "https://localhost:8080/",
          "height": 202
        }
      },
      "source": [
        "mtcars = pd.read_csv('https://gist.githubusercontent.com/seankross/a412dfbd88b3db70b74b/raw/5f23f993cd87c283ce766e7ac6b329ee7cc2e1d1/mtcars.csv')\n",
        "mtcars.head()"
      ],
      "execution_count": null,
      "outputs": [
        {
          "output_type": "execute_result",
          "data": {
            "text/html": [
              "<div>\n",
              "<style scoped>\n",
              "    .dataframe tbody tr th:only-of-type {\n",
              "        vertical-align: middle;\n",
              "    }\n",
              "\n",
              "    .dataframe tbody tr th {\n",
              "        vertical-align: top;\n",
              "    }\n",
              "\n",
              "    .dataframe thead th {\n",
              "        text-align: right;\n",
              "    }\n",
              "</style>\n",
              "<table border=\"1\" class=\"dataframe\">\n",
              "  <thead>\n",
              "    <tr style=\"text-align: right;\">\n",
              "      <th></th>\n",
              "      <th>model</th>\n",
              "      <th>mpg</th>\n",
              "      <th>cyl</th>\n",
              "      <th>disp</th>\n",
              "      <th>hp</th>\n",
              "      <th>drat</th>\n",
              "      <th>wt</th>\n",
              "      <th>qsec</th>\n",
              "      <th>vs</th>\n",
              "      <th>am</th>\n",
              "      <th>gear</th>\n",
              "      <th>carb</th>\n",
              "    </tr>\n",
              "  </thead>\n",
              "  <tbody>\n",
              "    <tr>\n",
              "      <th>0</th>\n",
              "      <td>Mazda RX4</td>\n",
              "      <td>21.0</td>\n",
              "      <td>6</td>\n",
              "      <td>160.0</td>\n",
              "      <td>110</td>\n",
              "      <td>3.90</td>\n",
              "      <td>2.620</td>\n",
              "      <td>16.46</td>\n",
              "      <td>0</td>\n",
              "      <td>1</td>\n",
              "      <td>4</td>\n",
              "      <td>4</td>\n",
              "    </tr>\n",
              "    <tr>\n",
              "      <th>1</th>\n",
              "      <td>Mazda RX4 Wag</td>\n",
              "      <td>21.0</td>\n",
              "      <td>6</td>\n",
              "      <td>160.0</td>\n",
              "      <td>110</td>\n",
              "      <td>3.90</td>\n",
              "      <td>2.875</td>\n",
              "      <td>17.02</td>\n",
              "      <td>0</td>\n",
              "      <td>1</td>\n",
              "      <td>4</td>\n",
              "      <td>4</td>\n",
              "    </tr>\n",
              "    <tr>\n",
              "      <th>2</th>\n",
              "      <td>Datsun 710</td>\n",
              "      <td>22.8</td>\n",
              "      <td>4</td>\n",
              "      <td>108.0</td>\n",
              "      <td>93</td>\n",
              "      <td>3.85</td>\n",
              "      <td>2.320</td>\n",
              "      <td>18.61</td>\n",
              "      <td>1</td>\n",
              "      <td>1</td>\n",
              "      <td>4</td>\n",
              "      <td>1</td>\n",
              "    </tr>\n",
              "    <tr>\n",
              "      <th>3</th>\n",
              "      <td>Hornet 4 Drive</td>\n",
              "      <td>21.4</td>\n",
              "      <td>6</td>\n",
              "      <td>258.0</td>\n",
              "      <td>110</td>\n",
              "      <td>3.08</td>\n",
              "      <td>3.215</td>\n",
              "      <td>19.44</td>\n",
              "      <td>1</td>\n",
              "      <td>0</td>\n",
              "      <td>3</td>\n",
              "      <td>1</td>\n",
              "    </tr>\n",
              "    <tr>\n",
              "      <th>4</th>\n",
              "      <td>Hornet Sportabout</td>\n",
              "      <td>18.7</td>\n",
              "      <td>8</td>\n",
              "      <td>360.0</td>\n",
              "      <td>175</td>\n",
              "      <td>3.15</td>\n",
              "      <td>3.440</td>\n",
              "      <td>17.02</td>\n",
              "      <td>0</td>\n",
              "      <td>0</td>\n",
              "      <td>3</td>\n",
              "      <td>2</td>\n",
              "    </tr>\n",
              "  </tbody>\n",
              "</table>\n",
              "</div>"
            ],
            "text/plain": [
              "               model   mpg  cyl   disp   hp  ...   qsec  vs  am  gear  carb\n",
              "0          Mazda RX4  21.0    6  160.0  110  ...  16.46   0   1     4     4\n",
              "1      Mazda RX4 Wag  21.0    6  160.0  110  ...  17.02   0   1     4     4\n",
              "2         Datsun 710  22.8    4  108.0   93  ...  18.61   1   1     4     1\n",
              "3     Hornet 4 Drive  21.4    6  258.0  110  ...  19.44   1   0     3     1\n",
              "4  Hornet Sportabout  18.7    8  360.0  175  ...  17.02   0   0     3     2\n",
              "\n",
              "[5 rows x 12 columns]"
            ]
          },
          "metadata": {
            "tags": []
          },
          "execution_count": 12
        }
      ]
    },
    {
      "cell_type": "markdown",
      "metadata": {
        "id": "xD4EbFTHL89y"
      },
      "source": [
        "**Dividindo em treino e teste**"
      ]
    },
    {
      "cell_type": "code",
      "metadata": {
        "id": "fpjOkg_wKwc6"
      },
      "source": [
        "X = mtcars[['mpg','disp','hp','drat','wt','qsec','vs','am','gear','carb']]\n",
        "y = mtcars['am'].values"
      ],
      "execution_count": null,
      "outputs": []
    },
    {
      "cell_type": "code",
      "metadata": {
        "id": "nePTw5szL1Qu"
      },
      "source": [
        "X = preprocessing.scale(X)\n",
        "#.33 = 1/3 dos dados originais | random state = 17 só para os dados do pofessor e o do aluno sair igual\n",
        "X_treino,X_teste,y_treino,y_teste = train_test_split(X,y,test_size=.33,random_state=17)"
      ],
      "execution_count": null,
      "outputs": []
    },
    {
      "cell_type": "markdown",
      "metadata": {
        "id": "8O5EIpDqPTD_"
      },
      "source": [
        "**Treinado o modelo**"
      ]
    },
    {
      "cell_type": "code",
      "metadata": {
        "id": "dQSmKdSdNZlA",
        "outputId": "d9b488bc-580c-40ab-e5c8-9ef529f15016",
        "colab": {
          "base_uri": "https://localhost:8080/"
        }
      },
      "source": [
        "clf = KNeighborsClassifier()\n",
        "clf.fit(X_treino,y_treino)\n",
        "print(clf)"
      ],
      "execution_count": null,
      "outputs": [
        {
          "output_type": "stream",
          "text": [
            "KNeighborsClassifier(algorithm='auto', leaf_size=30, metric='minkowski',\n",
            "                     metric_params=None, n_jobs=None, n_neighbors=5, p=2,\n",
            "                     weights='uniform')\n"
          ],
          "name": "stdout"
        }
      ]
    },
    {
      "cell_type": "markdown",
      "metadata": {
        "id": "a1u564_QP6eu"
      },
      "source": [
        "**Avaliando o desempenho do modelo com os dados de teste**"
      ]
    },
    {
      "cell_type": "code",
      "metadata": {
        "id": "VAcu69gdP2tI",
        "outputId": "48d10729-1c99-4f7c-9655-bc90fff95310",
        "colab": {
          "base_uri": "https://localhost:8080/"
        }
      },
      "source": [
        "y_esperado = y_teste\n",
        "y_preditor = clf.predict(X_teste)\n",
        "\n",
        "print(classification_report(y_esperado,y_preditor))"
      ],
      "execution_count": null,
      "outputs": [
        {
          "output_type": "stream",
          "text": [
            "              precision    recall  f1-score   support\n",
            "\n",
            "           0       0.83      1.00      0.91         5\n",
            "           1       1.00      0.83      0.91         6\n",
            "\n",
            "    accuracy                           0.91        11\n",
            "   macro avg       0.92      0.92      0.91        11\n",
            "weighted avg       0.92      0.91      0.91        11\n",
            "\n"
          ],
          "name": "stdout"
        }
      ]
    },
    {
      "cell_type": "markdown",
      "metadata": {
        "id": "06GbRKDPRGh-"
      },
      "source": [
        "No caso queriamos inferir se o carro era automático ou manual usando as variáveis de consumo de gasolina, dispi, que é uma medida do poder do carro, de HP que é o nosso Horse Power, e o peso do carro. Então a gente tava usando essas quatro variáveis no nosso x. E como nosso y, que era o nosso foco de predição, a gente estava usando a variável AM que diz se o carro é manual ou automático. "
      ]
    },
    {
      "cell_type": "code",
      "metadata": {
        "id": "rePW8NWMQu_P"
      },
      "source": [
        ""
      ],
      "execution_count": null,
      "outputs": []
    }
  ]
}