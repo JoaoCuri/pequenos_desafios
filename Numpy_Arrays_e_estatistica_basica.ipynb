{
  "nbformat": 4,
  "nbformat_minor": 0,
  "metadata": {
    "colab": {
      "name": "Numpy_Arrays_e_estatistica basica.ipynb",
      "provenance": [],
      "authorship_tag": "ABX9TyN9EA/9g6EhBrniw5YZqPNH",
      "include_colab_link": true
    },
    "kernelspec": {
      "name": "python3",
      "display_name": "Python 3"
    }
  },
  "cells": [
    {
      "cell_type": "markdown",
      "metadata": {
        "id": "view-in-github",
        "colab_type": "text"
      },
      "source": [
        "<a href=\"https://colab.research.google.com/github/JoaoCuri/pequenos_desafios/blob/master/Numpy_Arrays_e_estatistica_basica.ipynb\" target=\"_parent\"><img src=\"https://colab.research.google.com/assets/colab-badge.svg\" alt=\"Open In Colab\"/></a>"
      ]
    },
    {
      "cell_type": "markdown",
      "metadata": {
        "id": "3k3JoSpkjH7Y",
        "colab_type": "text"
      },
      "source": [
        "## Numpy\n"
      ]
    },
    {
      "cell_type": "markdown",
      "metadata": {
        "id": "nG_6ze5ZGwLr",
        "colab_type": "text"
      },
      "source": [
        "O Numpy\" foi construído para facilitar facilita a execução de cálculos com os dados que estão armazenados em \"arrays\" e matrizes, mesmo que você tem uma quantidade gigante de dados."
      ]
    },
    {
      "cell_type": "markdown",
      "metadata": {
        "id": "gmEHpVucHTIU",
        "colab_type": "text"
      },
      "source": [
        "Arrays e Numpy"
      ]
    },
    {
      "cell_type": "code",
      "metadata": {
        "id": "x3xcQPROGvNE",
        "colab_type": "code",
        "colab": {}
      },
      "source": [
        "import numpy as np\n",
        "from numpy.random import random\n"
      ],
      "execution_count": 7,
      "outputs": []
    },
    {
      "cell_type": "code",
      "metadata": {
        "id": "4qlju6VqhPJK",
        "colab_type": "code",
        "colab": {}
      },
      "source": [
        "np.set_printoptions(precision=2)"
      ],
      "execution_count": 8,
      "outputs": []
    },
    {
      "cell_type": "markdown",
      "metadata": {
        "id": "vbcvhV1Dhia1",
        "colab_type": "text"
      },
      "source": [
        "criando um array"
      ]
    },
    {
      "cell_type": "code",
      "metadata": {
        "id": "BRZQUZMshhal",
        "colab_type": "code",
        "colab": {
          "base_uri": "https://localhost:8080/",
          "height": 34
        },
        "outputId": "c72b06be-c319-4ec3-85e0-cc7cce1e9ffe"
      },
      "source": [
        "a = np.array([1,2,3,4,5,6])\n",
        "a"
      ],
      "execution_count": 9,
      "outputs": [
        {
          "output_type": "execute_result",
          "data": {
            "text/plain": [
              "array([1, 2, 3, 4, 5, 6])"
            ]
          },
          "metadata": {
            "tags": []
          },
          "execution_count": 9
        }
      ]
    },
    {
      "cell_type": "code",
      "metadata": {
        "id": "QZEEZMmbh3jH",
        "colab_type": "code",
        "colab": {
          "base_uri": "https://localhost:8080/",
          "height": 34
        },
        "outputId": "528e7f4a-7648-4b94-d4cc-71cc3b100cb2"
      },
      "source": [
        "np.random.seed(25)\n",
        "b = np.random.randn(6)\n",
        "b"
      ],
      "execution_count": 13,
      "outputs": [
        {
          "output_type": "execute_result",
          "data": {
            "text/plain": [
              "array([ 0.23,  1.03, -0.84, -0.59, -0.96, -0.22])"
            ]
          },
          "metadata": {
            "tags": []
          },
          "execution_count": 13
        }
      ]
    },
    {
      "cell_type": "markdown",
      "metadata": {
        "id": "KeDVWr_Yjnra",
        "colab_type": "text"
      },
      "source": [
        "## maioria dos metodos no numpy tem como resultados Arrays\n",
        "\n",
        "fazendo operações com arrays"
      ]
    },
    {
      "cell_type": "code",
      "metadata": {
        "id": "RT3Rq011irFn",
        "colab_type": "code",
        "colab": {
          "base_uri": "https://localhost:8080/",
          "height": 51
        },
        "outputId": "d213ff8a-390a-4623-8879-461fe2427507"
      },
      "source": [
        "c = np.arange(1,35)\n",
        "c"
      ],
      "execution_count": 14,
      "outputs": [
        {
          "output_type": "execute_result",
          "data": {
            "text/plain": [
              "array([ 1,  2,  3,  4,  5,  6,  7,  8,  9, 10, 11, 12, 13, 14, 15, 16, 17,\n",
              "       18, 19, 20, 21, 22, 23, 24, 25, 26, 27, 28, 29, 30, 31, 32, 33, 34])"
            ]
          },
          "metadata": {
            "tags": []
          },
          "execution_count": 14
        }
      ]
    },
    {
      "cell_type": "code",
      "metadata": {
        "id": "VZmwuo9hosWv",
        "colab_type": "code",
        "colab": {
          "base_uri": "https://localhost:8080/",
          "height": 34
        },
        "outputId": "28d7655c-dbd6-4ac3-d26e-657b602fb83e"
      },
      "source": [
        "a + b"
      ],
      "execution_count": 15,
      "outputs": [
        {
          "output_type": "execute_result",
          "data": {
            "text/plain": [
              "array([1.23, 3.03, 2.16, 3.41, 4.04, 5.78])"
            ]
          },
          "metadata": {
            "tags": []
          },
          "execution_count": 15
        }
      ]
    },
    {
      "cell_type": "code",
      "metadata": {
        "id": "-a2CTPbPovdM",
        "colab_type": "code",
        "colab": {
          "base_uri": "https://localhost:8080/",
          "height": 34
        },
        "outputId": "68533b99-2a74-4249-8f9f-4e94cb5ca76f"
      },
      "source": [
        "a*10"
      ],
      "execution_count": 16,
      "outputs": [
        {
          "output_type": "execute_result",
          "data": {
            "text/plain": [
              "array([10, 20, 30, 40, 50, 60])"
            ]
          },
          "metadata": {
            "tags": []
          },
          "execution_count": 16
        }
      ]
    },
    {
      "cell_type": "code",
      "metadata": {
        "id": "q_jVqkT6ozvc",
        "colab_type": "code",
        "colab": {
          "base_uri": "https://localhost:8080/",
          "height": 34
        },
        "outputId": "985178f5-58e2-4375-c615-909a5b135a10"
      },
      "source": [
        "a/b"
      ],
      "execution_count": 17,
      "outputs": [
        {
          "output_type": "execute_result",
          "data": {
            "text/plain": [
              "array([  4.38,   1.95,  -3.57,  -6.77,  -5.23, -26.99])"
            ]
          },
          "metadata": {
            "tags": []
          },
          "execution_count": 17
        }
      ]
    },
    {
      "cell_type": "code",
      "metadata": {
        "id": "FGvaEkJ-o6Xr",
        "colab_type": "code",
        "colab": {
          "base_uri": "https://localhost:8080/",
          "height": 34
        },
        "outputId": "fd22df03-33e6-4f68-8164-d9340c88f777"
      },
      "source": [
        "a-b"
      ],
      "execution_count": 18,
      "outputs": [
        {
          "output_type": "execute_result",
          "data": {
            "text/plain": [
              "array([0.77, 0.97, 3.84, 4.59, 5.96, 6.22])"
            ]
          },
          "metadata": {
            "tags": []
          },
          "execution_count": 18
        }
      ]
    },
    {
      "cell_type": "markdown",
      "metadata": {
        "id": "eLfS69Kgp_YN",
        "colab_type": "text"
      },
      "source": [
        "## martizes"
      ]
    },
    {
      "cell_type": "markdown",
      "metadata": {
        "id": "euDhHUfkr1ex",
        "colab_type": "text"
      },
      "source": [
        "multiplicação de matrizes e arrays"
      ]
    },
    {
      "cell_type": "code",
      "metadata": {
        "id": "IUjWKbX6o7y7",
        "colab_type": "code",
        "colab": {
          "base_uri": "https://localhost:8080/",
          "height": 68
        },
        "outputId": "51f42bc1-c62f-473a-a8d8-26e47b650a95"
      },
      "source": [
        "a = np.arange(3)\n",
        "aa = np.array([[2.,4.,6.],[1.,3.,5.],[10.,20.,30.]])\n",
        "aa"
      ],
      "execution_count": 22,
      "outputs": [
        {
          "output_type": "execute_result",
          "data": {
            "text/plain": [
              "array([[ 2.,  4.,  6.],\n",
              "       [ 1.,  3.,  5.],\n",
              "       [10., 20., 30.]])"
            ]
          },
          "metadata": {
            "tags": []
          },
          "execution_count": 22
        }
      ]
    },
    {
      "cell_type": "code",
      "metadata": {
        "id": "aKItPJHpy-eQ",
        "colab_type": "code",
        "colab": {
          "base_uri": "https://localhost:8080/",
          "height": 68
        },
        "outputId": "4405a38d-f930-4049-9676-4debcbe5ffbe"
      },
      "source": [
        "a*aa"
      ],
      "execution_count": 23,
      "outputs": [
        {
          "output_type": "execute_result",
          "data": {
            "text/plain": [
              "array([[ 0.,  4., 12.],\n",
              "       [ 0.,  3., 10.],\n",
              "       [ 0., 20., 60.]])"
            ]
          },
          "metadata": {
            "tags": []
          },
          "execution_count": 23
        }
      ]
    },
    {
      "cell_type": "markdown",
      "metadata": {
        "id": "gnfHQQTfzXEK",
        "colab_type": "text"
      },
      "source": [
        "multiplicando matrizes"
      ]
    },
    {
      "cell_type": "code",
      "metadata": {
        "id": "W-3aDWuUzF2Q",
        "colab_type": "code",
        "colab": {
          "base_uri": "https://localhost:8080/",
          "height": 68
        },
        "outputId": "938d7cb1-13d3-4fb1-c476-463a03b9cf32"
      },
      "source": [
        "bb = np.arange(9).reshape((3,3))\n",
        "bb"
      ],
      "execution_count": 24,
      "outputs": [
        {
          "output_type": "execute_result",
          "data": {
            "text/plain": [
              "array([[0, 1, 2],\n",
              "       [3, 4, 5],\n",
              "       [6, 7, 8]])"
            ]
          },
          "metadata": {
            "tags": []
          },
          "execution_count": 24
        }
      ]
    },
    {
      "cell_type": "code",
      "metadata": {
        "id": "eeta1Z7m6NEJ",
        "colab_type": "code",
        "colab": {
          "base_uri": "https://localhost:8080/",
          "height": 68
        },
        "outputId": "9a0d72a0-fa21-4dee-af46-69ef72bd7575"
      },
      "source": [
        "aa * bb # essa não é a multiplicação que conhecemos aqui o python só multiplicou item a item"
      ],
      "execution_count": 25,
      "outputs": [
        {
          "output_type": "execute_result",
          "data": {
            "text/plain": [
              "array([[  0.,   4.,  12.],\n",
              "       [  3.,  12.,  25.],\n",
              "       [ 60., 140., 240.]])"
            ]
          },
          "metadata": {
            "tags": []
          },
          "execution_count": 25
        }
      ]
    },
    {
      "cell_type": "code",
      "metadata": {
        "id": "U_weFdtg6Pdl",
        "colab_type": "code",
        "colab": {
          "base_uri": "https://localhost:8080/",
          "height": 68
        },
        "outputId": "9ac717a1-f6e3-499d-9f61-74bd98edd950"
      },
      "source": [
        "# multiplicação real\n",
        "np.dot(aa,bb)"
      ],
      "execution_count": 26,
      "outputs": [
        {
          "output_type": "execute_result",
          "data": {
            "text/plain": [
              "array([[ 48.,  60.,  72.],\n",
              "       [ 39.,  48.,  57.],\n",
              "       [240., 300., 360.]])"
            ]
          },
          "metadata": {
            "tags": []
          },
          "execution_count": 26
        }
      ]
    },
    {
      "cell_type": "code",
      "metadata": {
        "id": "MXtk9QyM6yak",
        "colab_type": "code",
        "colab": {
          "base_uri": "https://localhost:8080/",
          "height": 34
        },
        "outputId": "2859f384-1cad-43aa-8ca7-3f9fedf334a0"
      },
      "source": [
        "b = a*3\n",
        "b"
      ],
      "execution_count": 28,
      "outputs": [
        {
          "output_type": "execute_result",
          "data": {
            "text/plain": [
              "array([0, 3, 6])"
            ]
          },
          "metadata": {
            "tags": []
          },
          "execution_count": 28
        }
      ]
    },
    {
      "cell_type": "code",
      "metadata": {
        "id": "yd9pPamo66hD",
        "colab_type": "code",
        "colab": {
          "base_uri": "https://localhost:8080/",
          "height": 34
        },
        "outputId": "cfd1d186-cea9-4228-f6a4-0c65038e94f4"
      },
      "source": [
        "np.dot(a,b) #para calcular o produto escalar de a * b"
      ],
      "execution_count": 29,
      "outputs": [
        {
          "output_type": "execute_result",
          "data": {
            "text/plain": [
              "15"
            ]
          },
          "metadata": {
            "tags": []
          },
          "execution_count": 29
        }
      ]
    },
    {
      "cell_type": "markdown",
      "metadata": {
        "id": "pHMplPS1oVqX",
        "colab_type": "text"
      },
      "source": [
        "## Estatística descritiva\n",
        "\n",
        "*   **Descrevendo as observações de uma variável:** soma,mediana,média e máximo.\n",
        "*   **Descrevendo a dispersão de uma variável:** Desvio padrão, variancia, contagens e quartis.\n",
        "\n"
      ]
    },
    {
      "cell_type": "markdown",
      "metadata": {
        "id": "YneOok2HpX9g",
        "colab_type": "text"
      },
      "source": [
        ">#### Usos da estatística descritiva\n",
        "\n",
        ">*   deteção de outliers\n",
        ">*   Planejar os requisitos de preparação dos dados para pré-processamento\n",
        ">*   Escolher variáveis para uso em machine learning\n",
        "\n",
        "\n",
        "\n"
      ]
    },
    {
      "cell_type": "markdown",
      "metadata": {
        "id": "8w41zxbjsPT3",
        "colab_type": "text"
      },
      "source": [
        "## Matematica e estatistica básica \n",
        "\n",
        "investigando valores numericos"
      ]
    },
    {
      "cell_type": "code",
      "metadata": {
        "id": "I5370bMM7DSk",
        "colab_type": "code",
        "colab": {}
      },
      "source": [
        "import pandas as pd\n"
      ],
      "execution_count": 1,
      "outputs": []
    },
    {
      "cell_type": "code",
      "metadata": {
        "id": "0WxgzQETsjQ1",
        "colab_type": "code",
        "colab": {}
      },
      "source": [
        "url = 'https://gist.githubusercontent.com/seankross/a412dfbd88b3db70b74b/raw/5f23f993cd87c283ce766e7ac6b329ee7cc2e1d1/mtcars.csv'"
      ],
      "execution_count": 2,
      "outputs": []
    },
    {
      "cell_type": "code",
      "metadata": {
        "id": "b27S1XNJsuKo",
        "colab_type": "code",
        "colab": {
          "base_uri": "https://localhost:8080/",
          "height": 204
        },
        "outputId": "e440714c-1682-4e39-df2f-4cd98f593663"
      },
      "source": [
        "carros = pd.read_csv(url)\n",
        "carros.head()"
      ],
      "execution_count": 4,
      "outputs": [
        {
          "output_type": "execute_result",
          "data": {
            "text/html": [
              "<div>\n",
              "<style scoped>\n",
              "    .dataframe tbody tr th:only-of-type {\n",
              "        vertical-align: middle;\n",
              "    }\n",
              "\n",
              "    .dataframe tbody tr th {\n",
              "        vertical-align: top;\n",
              "    }\n",
              "\n",
              "    .dataframe thead th {\n",
              "        text-align: right;\n",
              "    }\n",
              "</style>\n",
              "<table border=\"1\" class=\"dataframe\">\n",
              "  <thead>\n",
              "    <tr style=\"text-align: right;\">\n",
              "      <th></th>\n",
              "      <th>model</th>\n",
              "      <th>mpg</th>\n",
              "      <th>cyl</th>\n",
              "      <th>disp</th>\n",
              "      <th>hp</th>\n",
              "      <th>drat</th>\n",
              "      <th>wt</th>\n",
              "      <th>qsec</th>\n",
              "      <th>vs</th>\n",
              "      <th>am</th>\n",
              "      <th>gear</th>\n",
              "      <th>carb</th>\n",
              "    </tr>\n",
              "  </thead>\n",
              "  <tbody>\n",
              "    <tr>\n",
              "      <th>0</th>\n",
              "      <td>Mazda RX4</td>\n",
              "      <td>21.0</td>\n",
              "      <td>6</td>\n",
              "      <td>160.0</td>\n",
              "      <td>110</td>\n",
              "      <td>3.90</td>\n",
              "      <td>2.620</td>\n",
              "      <td>16.46</td>\n",
              "      <td>0</td>\n",
              "      <td>1</td>\n",
              "      <td>4</td>\n",
              "      <td>4</td>\n",
              "    </tr>\n",
              "    <tr>\n",
              "      <th>1</th>\n",
              "      <td>Mazda RX4 Wag</td>\n",
              "      <td>21.0</td>\n",
              "      <td>6</td>\n",
              "      <td>160.0</td>\n",
              "      <td>110</td>\n",
              "      <td>3.90</td>\n",
              "      <td>2.875</td>\n",
              "      <td>17.02</td>\n",
              "      <td>0</td>\n",
              "      <td>1</td>\n",
              "      <td>4</td>\n",
              "      <td>4</td>\n",
              "    </tr>\n",
              "    <tr>\n",
              "      <th>2</th>\n",
              "      <td>Datsun 710</td>\n",
              "      <td>22.8</td>\n",
              "      <td>4</td>\n",
              "      <td>108.0</td>\n",
              "      <td>93</td>\n",
              "      <td>3.85</td>\n",
              "      <td>2.320</td>\n",
              "      <td>18.61</td>\n",
              "      <td>1</td>\n",
              "      <td>1</td>\n",
              "      <td>4</td>\n",
              "      <td>1</td>\n",
              "    </tr>\n",
              "    <tr>\n",
              "      <th>3</th>\n",
              "      <td>Hornet 4 Drive</td>\n",
              "      <td>21.4</td>\n",
              "      <td>6</td>\n",
              "      <td>258.0</td>\n",
              "      <td>110</td>\n",
              "      <td>3.08</td>\n",
              "      <td>3.215</td>\n",
              "      <td>19.44</td>\n",
              "      <td>1</td>\n",
              "      <td>0</td>\n",
              "      <td>3</td>\n",
              "      <td>1</td>\n",
              "    </tr>\n",
              "    <tr>\n",
              "      <th>4</th>\n",
              "      <td>Hornet Sportabout</td>\n",
              "      <td>18.7</td>\n",
              "      <td>8</td>\n",
              "      <td>360.0</td>\n",
              "      <td>175</td>\n",
              "      <td>3.15</td>\n",
              "      <td>3.440</td>\n",
              "      <td>17.02</td>\n",
              "      <td>0</td>\n",
              "      <td>0</td>\n",
              "      <td>3</td>\n",
              "      <td>2</td>\n",
              "    </tr>\n",
              "  </tbody>\n",
              "</table>\n",
              "</div>"
            ],
            "text/plain": [
              "               model   mpg  cyl   disp   hp  ...   qsec  vs  am  gear  carb\n",
              "0          Mazda RX4  21.0    6  160.0  110  ...  16.46   0   1     4     4\n",
              "1      Mazda RX4 Wag  21.0    6  160.0  110  ...  17.02   0   1     4     4\n",
              "2         Datsun 710  22.8    4  108.0   93  ...  18.61   1   1     4     1\n",
              "3     Hornet 4 Drive  21.4    6  258.0  110  ...  19.44   1   0     3     1\n",
              "4  Hornet Sportabout  18.7    8  360.0  175  ...  17.02   0   0     3     2\n",
              "\n",
              "[5 rows x 12 columns]"
            ]
          },
          "metadata": {
            "tags": []
          },
          "execution_count": 4
        }
      ]
    },
    {
      "cell_type": "code",
      "metadata": {
        "id": "nbIcbaiysz-1",
        "colab_type": "code",
        "colab": {
          "base_uri": "https://localhost:8080/",
          "height": 612
        },
        "outputId": "e499e7e7-a662-4ab6-cafa-4aa4f37571ba"
      },
      "source": [
        "# somatório\n",
        "carros.sum"
      ],
      "execution_count": 5,
      "outputs": [
        {
          "output_type": "execute_result",
          "data": {
            "text/plain": [
              "<bound method DataFrame.sum of                   model   mpg  cyl   disp   hp  ...   qsec  vs  am  gear  carb\n",
              "0             Mazda RX4  21.0    6  160.0  110  ...  16.46   0   1     4     4\n",
              "1         Mazda RX4 Wag  21.0    6  160.0  110  ...  17.02   0   1     4     4\n",
              "2            Datsun 710  22.8    4  108.0   93  ...  18.61   1   1     4     1\n",
              "3        Hornet 4 Drive  21.4    6  258.0  110  ...  19.44   1   0     3     1\n",
              "4     Hornet Sportabout  18.7    8  360.0  175  ...  17.02   0   0     3     2\n",
              "5               Valiant  18.1    6  225.0  105  ...  20.22   1   0     3     1\n",
              "6            Duster 360  14.3    8  360.0  245  ...  15.84   0   0     3     4\n",
              "7             Merc 240D  24.4    4  146.7   62  ...  20.00   1   0     4     2\n",
              "8              Merc 230  22.8    4  140.8   95  ...  22.90   1   0     4     2\n",
              "9              Merc 280  19.2    6  167.6  123  ...  18.30   1   0     4     4\n",
              "10            Merc 280C  17.8    6  167.6  123  ...  18.90   1   0     4     4\n",
              "11           Merc 450SE  16.4    8  275.8  180  ...  17.40   0   0     3     3\n",
              "12           Merc 450SL  17.3    8  275.8  180  ...  17.60   0   0     3     3\n",
              "13          Merc 450SLC  15.2    8  275.8  180  ...  18.00   0   0     3     3\n",
              "14   Cadillac Fleetwood  10.4    8  472.0  205  ...  17.98   0   0     3     4\n",
              "15  Lincoln Continental  10.4    8  460.0  215  ...  17.82   0   0     3     4\n",
              "16    Chrysler Imperial  14.7    8  440.0  230  ...  17.42   0   0     3     4\n",
              "17             Fiat 128  32.4    4   78.7   66  ...  19.47   1   1     4     1\n",
              "18          Honda Civic  30.4    4   75.7   52  ...  18.52   1   1     4     2\n",
              "19       Toyota Corolla  33.9    4   71.1   65  ...  19.90   1   1     4     1\n",
              "20        Toyota Corona  21.5    4  120.1   97  ...  20.01   1   0     3     1\n",
              "21     Dodge Challenger  15.5    8  318.0  150  ...  16.87   0   0     3     2\n",
              "22          AMC Javelin  15.2    8  304.0  150  ...  17.30   0   0     3     2\n",
              "23           Camaro Z28  13.3    8  350.0  245  ...  15.41   0   0     3     4\n",
              "24     Pontiac Firebird  19.2    8  400.0  175  ...  17.05   0   0     3     2\n",
              "25            Fiat X1-9  27.3    4   79.0   66  ...  18.90   1   1     4     1\n",
              "26        Porsche 914-2  26.0    4  120.3   91  ...  16.70   0   1     5     2\n",
              "27         Lotus Europa  30.4    4   95.1  113  ...  16.90   1   1     5     2\n",
              "28       Ford Pantera L  15.8    8  351.0  264  ...  14.50   0   1     5     4\n",
              "29         Ferrari Dino  19.7    6  145.0  175  ...  15.50   0   1     5     6\n",
              "30        Maserati Bora  15.0    8  301.0  335  ...  14.60   0   1     5     8\n",
              "31           Volvo 142E  21.4    4  121.0  109  ...  18.60   1   1     4     2\n",
              "\n",
              "[32 rows x 12 columns]>"
            ]
          },
          "metadata": {
            "tags": []
          },
          "execution_count": 5
        }
      ]
    },
    {
      "cell_type": "code",
      "metadata": {
        "id": "Y-Ut2WHQtEJl",
        "colab_type": "code",
        "colab": {
          "base_uri": "https://localhost:8080/",
          "height": 578
        },
        "outputId": "52382770-d44f-4287-f35f-550180e543ba"
      },
      "source": [
        "carros.sum(axis = 1) #assim opandas faz a soma linha a linha"
      ],
      "execution_count": 7,
      "outputs": [
        {
          "output_type": "execute_result",
          "data": {
            "text/plain": [
              "0     328.980\n",
              "1     329.795\n",
              "2     259.580\n",
              "3     426.135\n",
              "4     590.310\n",
              "5     385.540\n",
              "6     656.920\n",
              "7     270.980\n",
              "8     299.570\n",
              "9     350.460\n",
              "10    349.660\n",
              "11    510.740\n",
              "12    511.500\n",
              "13    509.850\n",
              "14    728.560\n",
              "15    726.644\n",
              "16    725.695\n",
              "17    213.850\n",
              "18    195.165\n",
              "19    206.955\n",
              "20    273.775\n",
              "21    519.650\n",
              "22    506.085\n",
              "23    646.280\n",
              "24    631.175\n",
              "25    208.215\n",
              "26    272.570\n",
              "27    273.683\n",
              "28    670.690\n",
              "29    379.590\n",
              "30    694.710\n",
              "31    288.890\n",
              "dtype: float64"
            ]
          },
          "metadata": {
            "tags": []
          },
          "execution_count": 7
        }
      ]
    },
    {
      "cell_type": "markdown",
      "metadata": {
        "id": "9F85hQIjueT1",
        "colab_type": "text"
      },
      "source": [
        "Mediana"
      ]
    },
    {
      "cell_type": "code",
      "metadata": {
        "id": "9ydCTO_IuOzl",
        "colab_type": "code",
        "colab": {
          "base_uri": "https://localhost:8080/",
          "height": 221
        },
        "outputId": "2a4a0cc2-d292-407c-ddda-c8a52967d140"
      },
      "source": [
        "carros.median()"
      ],
      "execution_count": 8,
      "outputs": [
        {
          "output_type": "execute_result",
          "data": {
            "text/plain": [
              "mpg      19.200\n",
              "cyl       6.000\n",
              "disp    196.300\n",
              "hp      123.000\n",
              "drat      3.695\n",
              "wt        3.325\n",
              "qsec     17.710\n",
              "vs        0.000\n",
              "am        0.000\n",
              "gear      4.000\n",
              "carb      2.000\n",
              "dtype: float64"
            ]
          },
          "metadata": {
            "tags": []
          },
          "execution_count": 8
        }
      ]
    },
    {
      "cell_type": "code",
      "metadata": {
        "id": "RFVshPkWuluF",
        "colab_type": "code",
        "colab": {
          "base_uri": "https://localhost:8080/",
          "height": 221
        },
        "outputId": "577259ff-e231-481b-827f-fcdf97a2ab7c"
      },
      "source": [
        "carros.mean()"
      ],
      "execution_count": 9,
      "outputs": [
        {
          "output_type": "execute_result",
          "data": {
            "text/plain": [
              "mpg      20.090625\n",
              "cyl       6.187500\n",
              "disp    230.721875\n",
              "hp      146.687500\n",
              "drat      3.596563\n",
              "wt        3.217250\n",
              "qsec     17.848750\n",
              "vs        0.437500\n",
              "am        0.406250\n",
              "gear      3.687500\n",
              "carb      2.812500\n",
              "dtype: float64"
            ]
          },
          "metadata": {
            "tags": []
          },
          "execution_count": 9
        }
      ]
    },
    {
      "cell_type": "code",
      "metadata": {
        "id": "GXpWPSK2vBuV",
        "colab_type": "code",
        "colab": {
          "base_uri": "https://localhost:8080/",
          "height": 238
        },
        "outputId": "902922d0-0848-4a69-9f26-fe543066fabf"
      },
      "source": [
        "carros.max()"
      ],
      "execution_count": 10,
      "outputs": [
        {
          "output_type": "execute_result",
          "data": {
            "text/plain": [
              "model    Volvo 142E\n",
              "mpg            33.9\n",
              "cyl               8\n",
              "disp            472\n",
              "hp              335\n",
              "drat           4.93\n",
              "wt            5.424\n",
              "qsec           22.9\n",
              "vs                1\n",
              "am                1\n",
              "gear              5\n",
              "carb              8\n",
              "dtype: object"
            ]
          },
          "metadata": {
            "tags": []
          },
          "execution_count": 10
        }
      ]
    },
    {
      "cell_type": "code",
      "metadata": {
        "id": "KEsyH9ftvI_F",
        "colab_type": "code",
        "colab": {
          "base_uri": "https://localhost:8080/",
          "height": 34
        },
        "outputId": "888392bf-6c68-4ae1-d706-0cc14c5928bb"
      },
      "source": [
        "carros['mpg'].idxmax()"
      ],
      "execution_count": 12,
      "outputs": [
        {
          "output_type": "execute_result",
          "data": {
            "text/plain": [
              "19"
            ]
          },
          "metadata": {
            "tags": []
          },
          "execution_count": 12
        }
      ]
    },
    {
      "cell_type": "markdown",
      "metadata": {
        "id": "YJRO1STCvnH4",
        "colab_type": "text"
      },
      "source": [
        "Aqui descobrimos que a linha 19 é a que apresanta o maior valor para a variável mpg."
      ]
    },
    {
      "cell_type": "code",
      "metadata": {
        "id": "zki3wTY9vgLF",
        "colab_type": "code",
        "colab": {}
      },
      "source": [
        ""
      ],
      "execution_count": null,
      "outputs": []
    }
  ]
}