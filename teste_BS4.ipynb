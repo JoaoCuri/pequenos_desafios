{
  "nbformat": 4,
  "nbformat_minor": 0,
  "metadata": {
    "colab": {
      "provenance": [],
      "authorship_tag": "ABX9TyOSE7bX6UzIJ2v2aaapa2EM",
      "include_colab_link": true
    },
    "kernelspec": {
      "name": "python3",
      "display_name": "Python 3"
    },
    "language_info": {
      "name": "python"
    }
  },
  "cells": [
    {
      "cell_type": "markdown",
      "metadata": {
        "id": "view-in-github",
        "colab_type": "text"
      },
      "source": [
        "<a href=\"https://colab.research.google.com/github/JoaoCuri/pequenos_desafios/blob/master/teste_BS4.ipynb\" target=\"_parent\"><img src=\"https://colab.research.google.com/assets/colab-badge.svg\" alt=\"Open In Colab\"/></a>"
      ]
    },
    {
      "cell_type": "code",
      "source": [
        "pip install urllib3"
      ],
      "metadata": {
        "colab": {
          "base_uri": "https://localhost:8080/"
        },
        "id": "zmss8jUtWYXy",
        "outputId": "7c06d9a0-e5f4-4fd2-aa0f-36846efa2903"
      },
      "execution_count": 16,
      "outputs": [
        {
          "output_type": "stream",
          "name": "stdout",
          "text": [
            "Requirement already satisfied: urllib3 in /usr/local/lib/python3.10/dist-packages (2.0.7)\n"
          ]
        }
      ]
    },
    {
      "cell_type": "code",
      "source": [
        "import urllib.request\n",
        "from bs4 import BeautifulSoup\n",
        "\n",
        "with urllib.request.urlopen(\"https://www.amazon.com.br/Alimento-Nature-Naturalmente-Sem-Lactose/dp/B08GYPDV18?pd_rd_w=MfWMl&content-id=amzn1.sym.2e35c841-aaf1-4609-9f2e-d8bd574e8fb6&pf_rd_p=2e35c841-aaf1-4609-9f2e-d8bd574e8fb6&pf_rd_r=57HPG7HCMHJRTZA3YMV5&pd_rd_wg=rjqvL&pd_rd_r=305b67eb-646e-4071-ae90-9ae9bb64e072&pd_rd_i=B08GYPDV18&psc=1&ref_=pd_bap_d_grid_rp_0_1_ec_i\") as url:\n",
        "    ObjBS = BeautifulSoup(url.read())\n",
        "    # I'm guessing this would output the html source code ?\n",
        "    print(ObjBS.title)"
      ],
      "metadata": {
        "colab": {
          "base_uri": "https://localhost:8080/"
        },
        "id": "GdFh3H5oXYKm",
        "outputId": "ff7eb51f-38e0-4e91-bd97-3db30ef90b89"
      },
      "execution_count": 17,
      "outputs": [
        {
          "output_type": "stream",
          "name": "stdout",
          "text": [
            "<title>Alimento em Pó Supra Soy Nature Naturalmente Sem Lactose - 300g | Amazon.com.br</title>\n"
          ]
        }
      ]
    },
    {
      "cell_type": "code",
      "source": [
        "Preco=ObjBS.findAll(\"span\", {\"id\": \"sns-tiered-price\"});"
      ],
      "metadata": {
        "id": "7MINp1-zZAhP"
      },
      "execution_count": 18,
      "outputs": []
    },
    {
      "cell_type": "code",
      "source": [
        "lista = []\n",
        "\n",
        "for i in Preco:\n",
        "    lista.append(i.get_text(strip=True))\n",
        "print(lista)"
      ],
      "metadata": {
        "colab": {
          "base_uri": "https://localhost:8080/"
        },
        "id": "8F7Z4tRndzQq",
        "outputId": "94a31271-ea36-4446-a541-eceffb12e466"
      },
      "execution_count": 19,
      "outputs": [
        {
          "output_type": "stream",
          "name": "stdout",
          "text": [
            "['R$\\xa018,81(R$\\xa01,57 /  Unidade)', 'R$\\xa018,81(R$\\xa01,57 /  Unidade)']\n"
          ]
        }
      ]
    },
    {
      "cell_type": "code",
      "source": [
        "print(lista[0][0:2]+' '+lista[0][3:8])"
      ],
      "metadata": {
        "colab": {
          "base_uri": "https://localhost:8080/"
        },
        "id": "a04Zz8a5eY2l",
        "outputId": "e6661259-0b1c-4a89-a679-5855aa5783fe"
      },
      "execution_count": 20,
      "outputs": [
        {
          "output_type": "stream",
          "name": "stdout",
          "text": [
            "R$ 18,81\n"
          ]
        }
      ]
    }
  ]
}