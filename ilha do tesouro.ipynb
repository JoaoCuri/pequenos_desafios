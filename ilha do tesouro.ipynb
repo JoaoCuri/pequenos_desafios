{
  "nbformat": 4,
  "nbformat_minor": 0,
  "metadata": {
    "colab": {
      "name": "100 days.ipynb",
      "provenance": [],
      "authorship_tag": "ABX9TyOSPPViLA2W2EHD9GLq7uLo",
      "include_colab_link": true
    },
    "kernelspec": {
      "name": "python3",
      "display_name": "Python 3"
    },
    "language_info": {
      "name": "python"
    }
  },
  "cells": [
    {
      "cell_type": "markdown",
      "metadata": {
        "id": "view-in-github",
        "colab_type": "text"
      },
      "source": [
        "<a href=\"https://colab.research.google.com/github/JoaoCuri/pequenos_desafios/blob/master/ilha%20do%20tesouro.ipynb\" target=\"_parent\"><img src=\"https://colab.research.google.com/assets/colab-badge.svg\" alt=\"Open In Colab\"/></a>"
      ]
    },
    {
      "cell_type": "markdown",
      "metadata": {
        "id": "9JtuzGibIHhn"
      },
      "source": [
        "**1º Projeto: ilha do tesouro**\n",
        "\n"
      ]
    },
    {
      "cell_type": "code",
      "metadata": {
        "colab": {
          "base_uri": "https://localhost:8080/"
        },
        "id": "Ef7ZF10Qv9n8",
        "outputId": "4b842890-3111-45a6-9036-04bb1a97a2db"
      },
      "source": [
        "print('''\n",
        "*******************************************************************************\n",
        "          |                   |                  |                     |\n",
        " _________|________________.=\"\"_;=.______________|_____________________|_______\n",
        "|                   |  ,-\"_,=\"\"     `\"=.|                  |\n",
        "|___________________|__\"=._o`\"-._        `\"=.______________|___________________\n",
        "          |                `\"=._o`\"=._      _`\"=._                     |\n",
        " _________|_____________________:=._o \"=._.\"_.-=\"'\"=.__________________|_______\n",
        "|                   |    __.--\" , ; `\"=._o.\" ,-\"\"\"-._ \".   |\n",
        "|___________________|_._\"  ,. .` ` `` ,  `\"-._\"-._   \". '__|___________________\n",
        "          |           |o`\"=._` , \"` `; .\". ,  \"-._\"-._; ;              |\n",
        " _________|___________| ;`-.o`\"=._; .\" ` '`.\"\\` . \"-._ /_______________|_______\n",
        "|                   | |o;    `\"-.o`\"=._``  '` \" ,__.--o;   |\n",
        "|___________________|_| ;     (#) `-.o `\"=.`_.--\"_o.-; ;___|___________________\n",
        "____/______/______/___|o;._    \"      `\".o|o_.--\"    ;o;____/______/______/____\n",
        "/______/______/______/_\"=._o--._        ; | ;        ; ;/______/______/______/_\n",
        "____/______/______/______/__\"=._o--._   ;o|o;     _._;o;____/______/______/____\n",
        "/______/______/______/______/____\"=._o._; | ;_.--\"o.--\"_/______/______/______/_\n",
        "____/______/______/______/______/_____\"=.o|o_.--\"\"___/______/______/______/____\n",
        "/______/______/______/______/______/______/______/______/______/______/_____ /\n",
        "*******************************************************************************\n",
        "''')\n",
        "print('Welcome to Tresure Island ')\n",
        "print('your mission is to find a tresure,ok!')\n",
        "print(\"so let's go!!!!\")\n",
        "way=input('you at across road. Where do you want to go? To the \"left\" or \"right\" way ?').upper()\n",
        "if way == 'RIGHT':\n",
        "  print('You fell into a hole. Game Ouver')\n",
        "if way == 'LEFT':\n",
        "  way2=input('You come to a lake, there is an island in the middle of the lake. Do you want \"wait\" a boat or \"swim\" across').upper()\n",
        "  if way2 == 'SWIM':\n",
        "    print(\"Game Ouver,you're got attacked by an angry trout \")\n",
        "  if way2 == 'WAIT':\n",
        "    way3=input('you find a house with 3 doors, a \"red\" , a \"blue\" and a \"yellow\".which one you want to open?').upper()\n",
        "    if way=='YELLOW':\n",
        "      print(\"YOU WIN THE GAME\\nCongratilation\")\n",
        "    else:\n",
        "      print('when you open the door you die')\n",
        "  else:\n",
        "    print(\"don't you want play? It's a Game Ouver\" )\n",
        "else:\n",
        "  print('Game Ouver, you have shoose left or right')"
      ],
      "execution_count": 4,
      "outputs": [
        {
          "output_type": "stream",
          "text": [
            "\n",
            "*******************************************************************************\n",
            "          |                   |                  |                     |\n",
            " _________|________________.=\"\"_;=.______________|_____________________|_______\n",
            "|                   |  ,-\"_,=\"\"     `\"=.|                  |\n",
            "|___________________|__\"=._o`\"-._        `\"=.______________|___________________\n",
            "          |                `\"=._o`\"=._      _`\"=._                     |\n",
            " _________|_____________________:=._o \"=._.\"_.-=\"'\"=.__________________|_______\n",
            "|                   |    __.--\" , ; `\"=._o.\" ,-\"\"\"-._ \".   |\n",
            "|___________________|_._\"  ,. .` ` `` ,  `\"-._\"-._   \". '__|___________________\n",
            "          |           |o`\"=._` , \"` `; .\". ,  \"-._\"-._; ;              |\n",
            " _________|___________| ;`-.o`\"=._; .\" ` '`.\"\\` . \"-._ /_______________|_______\n",
            "|                   | |o;    `\"-.o`\"=._``  '` \" ,__.--o;   |\n",
            "|___________________|_| ;     (#) `-.o `\"=.`_.--\"_o.-; ;___|___________________\n",
            "____/______/______/___|o;._    \"      `\".o|o_.--\"    ;o;____/______/______/____\n",
            "/______/______/______/_\"=._o--._        ; | ;        ; ;/______/______/______/_\n",
            "____/______/______/______/__\"=._o--._   ;o|o;     _._;o;____/______/______/____\n",
            "/______/______/______/______/____\"=._o._; | ;_.--\"o.--\"_/______/______/______/_\n",
            "____/______/______/______/______/_____\"=.o|o_.--\"\"___/______/______/______/____\n",
            "/______/______/______/______/______/______/______/______/______/______/_____ /\n",
            "*******************************************************************************\n",
            "\n",
            "Welcome to Tresure Island \n",
            "your mission is to find a tresure,ok!\n",
            "so let's go!!!!\n",
            "you at across road. Where do you want to go? To the \"left\" or \"right\" way ?left\n",
            "You come to a lake, there is an island in the middle of the lake. Do you want \"wait\" a boat or \"swim\" acrosswait\n",
            "you find a house with 3 doors, a \"red\" , a \"blue\" and a \"yellow\".which one you want to open?blue\n",
            "when you open the door you die\n"
          ],
          "name": "stdout"
        }
      ]
    }
  ]
}