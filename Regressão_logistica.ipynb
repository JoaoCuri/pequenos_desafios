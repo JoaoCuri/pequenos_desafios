{
  "nbformat": 4,
  "nbformat_minor": 0,
  "metadata": {
    "colab": {
      "name": "Regressão_logistica.ipynb",
      "provenance": [],
      "authorship_tag": "ABX9TyO5GMSm/FdpQOwIXT2K8dr3",
      "include_colab_link": true
    },
    "kernelspec": {
      "name": "python3",
      "display_name": "Python 3"
    }
  },
  "cells": [
    {
      "cell_type": "markdown",
      "metadata": {
        "id": "view-in-github",
        "colab_type": "text"
      },
      "source": [
        "<a href=\"https://colab.research.google.com/github/JoaoCuri/pequenos_desafios/blob/master/Regress%C3%A3o_logistica.ipynb\" target=\"_parent\"><img src=\"https://colab.research.google.com/assets/colab-badge.svg\" alt=\"Open In Colab\"/></a>"
      ]
    },
    {
      "cell_type": "markdown",
      "metadata": {
        "id": "wXhwpCvAsCKw"
      },
      "source": [
        "# **Regressão logistica**"
      ]
    },
    {
      "cell_type": "markdown",
      "metadata": {
        "id": "oG4S_E7AsJy8"
      },
      "source": [
        "Diferente da regressão linear que usamos variáveis numéricas para predizer valores de uma observação a regressão logistica podemos predizer a categoria de observação.\n",
        "\n",
        "Casos que podemos utilizar a regressão logistica:\n",
        "\n",
        "* Analise de propensão de vendas x gastos com propaganda.\n",
        "* Predição de rotatividade de clientes.\n",
        "* Predição de eventos perigosos.\n"
      ]
    },
    {
      "cell_type": "markdown",
      "metadata": {
        "id": "QXmo4olrsozi"
      },
      "source": [
        "Pressupostos para trabalhar com a regressão logistica\n",
        "\n",
        "1. O conjunto de dados não apresenta valores em branco\n",
        "2. A variável predita é binária( só aceita 2 possibilidades de valores ) ou ordinal (variável categórica com valores ordenados.\n",
        "3. Todas as variáveis preditoras são independentes.\n",
        "4. Existem pelo menos 50 observações por variáveis preditora (para garantir resultados confiáveis).\n",
        "\n"
      ]
    },
    {
      "cell_type": "markdown",
      "metadata": {
        "id": "HJEWdqoqytwv"
      },
      "source": [
        " ***aplicando***"
      ]
    },
    {
      "cell_type": "code",
      "metadata": {
        "id": "3mSsomuCr7UE",
        "outputId": "9eabc5a2-ce31-4b27-abfe-c7a483a854ad",
        "colab": {
          "base_uri": "https://localhost:8080/",
          "height": 202
        }
      },
      "source": [
        "import pandas as pd\n",
        "import seaborn as sns\n",
        "\n",
        "import matplotlib.pyplot as plt\n",
        "from matplotlib import rcParams\n",
        "\n",
        "from scipy.stats import spearmanr\n",
        "from sklearn.preprocessing import scale\n",
        "from sklearn.linear_model import LogisticRegression\n",
        "from sklearn.model_selection import train_test_split\n",
        "from sklearn.metrics import classification_report\n",
        "\n",
        "%matplotlib inline\n",
        "rcParams['figure.figsize'] = 5,4\n",
        "sns.set_style('whitegrid')\n",
        "\n",
        "carros = pd.read_csv('https://gist.githubusercontent.com/seankross/a412dfbd88b3db70b74b/raw/5f23f993cd87c283ce766e7ac6b329ee7cc2e1d1/mtcars.csv')\n",
        "carros.head()\n",
        "\n"
      ],
      "execution_count": 1,
      "outputs": [
        {
          "output_type": "execute_result",
          "data": {
            "text/html": [
              "<div>\n",
              "<style scoped>\n",
              "    .dataframe tbody tr th:only-of-type {\n",
              "        vertical-align: middle;\n",
              "    }\n",
              "\n",
              "    .dataframe tbody tr th {\n",
              "        vertical-align: top;\n",
              "    }\n",
              "\n",
              "    .dataframe thead th {\n",
              "        text-align: right;\n",
              "    }\n",
              "</style>\n",
              "<table border=\"1\" class=\"dataframe\">\n",
              "  <thead>\n",
              "    <tr style=\"text-align: right;\">\n",
              "      <th></th>\n",
              "      <th>model</th>\n",
              "      <th>mpg</th>\n",
              "      <th>cyl</th>\n",
              "      <th>disp</th>\n",
              "      <th>hp</th>\n",
              "      <th>drat</th>\n",
              "      <th>wt</th>\n",
              "      <th>qsec</th>\n",
              "      <th>vs</th>\n",
              "      <th>am</th>\n",
              "      <th>gear</th>\n",
              "      <th>carb</th>\n",
              "    </tr>\n",
              "  </thead>\n",
              "  <tbody>\n",
              "    <tr>\n",
              "      <th>0</th>\n",
              "      <td>Mazda RX4</td>\n",
              "      <td>21.0</td>\n",
              "      <td>6</td>\n",
              "      <td>160.0</td>\n",
              "      <td>110</td>\n",
              "      <td>3.90</td>\n",
              "      <td>2.620</td>\n",
              "      <td>16.46</td>\n",
              "      <td>0</td>\n",
              "      <td>1</td>\n",
              "      <td>4</td>\n",
              "      <td>4</td>\n",
              "    </tr>\n",
              "    <tr>\n",
              "      <th>1</th>\n",
              "      <td>Mazda RX4 Wag</td>\n",
              "      <td>21.0</td>\n",
              "      <td>6</td>\n",
              "      <td>160.0</td>\n",
              "      <td>110</td>\n",
              "      <td>3.90</td>\n",
              "      <td>2.875</td>\n",
              "      <td>17.02</td>\n",
              "      <td>0</td>\n",
              "      <td>1</td>\n",
              "      <td>4</td>\n",
              "      <td>4</td>\n",
              "    </tr>\n",
              "    <tr>\n",
              "      <th>2</th>\n",
              "      <td>Datsun 710</td>\n",
              "      <td>22.8</td>\n",
              "      <td>4</td>\n",
              "      <td>108.0</td>\n",
              "      <td>93</td>\n",
              "      <td>3.85</td>\n",
              "      <td>2.320</td>\n",
              "      <td>18.61</td>\n",
              "      <td>1</td>\n",
              "      <td>1</td>\n",
              "      <td>4</td>\n",
              "      <td>1</td>\n",
              "    </tr>\n",
              "    <tr>\n",
              "      <th>3</th>\n",
              "      <td>Hornet 4 Drive</td>\n",
              "      <td>21.4</td>\n",
              "      <td>6</td>\n",
              "      <td>258.0</td>\n",
              "      <td>110</td>\n",
              "      <td>3.08</td>\n",
              "      <td>3.215</td>\n",
              "      <td>19.44</td>\n",
              "      <td>1</td>\n",
              "      <td>0</td>\n",
              "      <td>3</td>\n",
              "      <td>1</td>\n",
              "    </tr>\n",
              "    <tr>\n",
              "      <th>4</th>\n",
              "      <td>Hornet Sportabout</td>\n",
              "      <td>18.7</td>\n",
              "      <td>8</td>\n",
              "      <td>360.0</td>\n",
              "      <td>175</td>\n",
              "      <td>3.15</td>\n",
              "      <td>3.440</td>\n",
              "      <td>17.02</td>\n",
              "      <td>0</td>\n",
              "      <td>0</td>\n",
              "      <td>3</td>\n",
              "      <td>2</td>\n",
              "    </tr>\n",
              "  </tbody>\n",
              "</table>\n",
              "</div>"
            ],
            "text/plain": [
              "               model   mpg  cyl   disp   hp  ...   qsec  vs  am  gear  carb\n",
              "0          Mazda RX4  21.0    6  160.0  110  ...  16.46   0   1     4     4\n",
              "1      Mazda RX4 Wag  21.0    6  160.0  110  ...  17.02   0   1     4     4\n",
              "2         Datsun 710  22.8    4  108.0   93  ...  18.61   1   1     4     1\n",
              "3     Hornet 4 Drive  21.4    6  258.0  110  ...  19.44   1   0     3     1\n",
              "4  Hornet Sportabout  18.7    8  360.0  175  ...  17.02   0   0     3     2\n",
              "\n",
              "[5 rows x 12 columns]"
            ]
          },
          "metadata": {
            "tags": []
          },
          "execution_count": 1
        }
      ]
    },
    {
      "cell_type": "markdown",
      "metadata": {
        "id": "_F4WT-C858Mz"
      },
      "source": [
        "**Regressão logistica em mtcars**\n",
        "\n",
        "\n",
        "\n"
      ]
    },
    {
      "cell_type": "code",
      "metadata": {
        "id": "xhBTfy-v5hvx"
      },
      "source": [
        "carros_colunas = ['drat','carb']\n",
        "carros_dados = carros[carros_colunas].values\n",
        "\n",
        "y = carros['am'].values"
      ],
      "execution_count": 2,
      "outputs": []
    },
    {
      "cell_type": "markdown",
      "metadata": {
        "id": "UEhs1hvilbCZ"
      },
      "source": [
        "**checando se as variáveis são categóricas**"
      ]
    },
    {
      "cell_type": "code",
      "metadata": {
        "id": "pf5F9q9nlaCn",
        "outputId": "5506085a-90d0-4e5b-a57d-7a0bf7b68335",
        "colab": {
          "base_uri": "https://localhost:8080/",
          "height": 279
        }
      },
      "source": [
        "sns.regplot(x='drat',y = 'carb',data = carros,scatter=True);"
      ],
      "execution_count": 3,
      "outputs": [
        {
          "output_type": "display_data",
          "data": {
            "image/png": "[encoded data removed]",
            "text/plain": [
              "<Figure size 432x288 with 1 Axes>"
            ]
          },
          "metadata": {
            "tags": [],
            "needs_background": "light"
          }
        }
      ]
    },
    {
      "cell_type": "markdown",
      "metadata": {
        "id": "jEeBVHO_mjx1"
      },
      "source": [
        "pelo comportamento podemos verificar que são categóricas"
      ]
    },
    {
      "cell_type": "markdown",
      "metadata": {
        "id": "5t1daDPHl_je"
      },
      "source": [
        "**Checando se são independentes**"
      ]
    },
    {
      "cell_type": "code",
      "metadata": {
        "id": "b0rLofCSl5_3",
        "outputId": "93faa420-8d60-45f8-af0a-c0ee43ff9072",
        "colab": {
          "base_uri": "https://localhost:8080/"
        }
      },
      "source": [
        "drat = carros['drat']\n",
        "carb = carros['carb']\n",
        "\n",
        "spearmanr,p = spearmanr(drat,carb)\n",
        "print(spearmanr)"
      ],
      "execution_count": 4,
      "outputs": [
        {
          "output_type": "stream",
          "text": [
            "-0.1252229399201802\n"
          ],
          "name": "stdout"
        }
      ]
    },
    {
      "cell_type": "markdown",
      "metadata": {
        "id": "XvpctDlwnTzw"
      },
      "source": [
        "Quando o coeficiente de spearmanr for bem pórximo de zero podemos concluir que são indepententes."
      ]
    },
    {
      "cell_type": "markdown",
      "metadata": {
        "id": "FLRaniZtoV2n"
      },
      "source": [
        "**conferindo se temos valores nulos**"
      ]
    },
    {
      "cell_type": "code",
      "metadata": {
        "id": "dQP--zRNnQkZ",
        "outputId": "3f61fc16-a318-48d5-a7e5-eeca410328ff",
        "colab": {
          "base_uri": "https://localhost:8080/"
        }
      },
      "source": [
        "carros.isnull().sum()"
      ],
      "execution_count": 6,
      "outputs": [
        {
          "output_type": "execute_result",
          "data": {
            "text/plain": [
              "model    0\n",
              "mpg      0\n",
              "cyl      0\n",
              "disp     0\n",
              "hp       0\n",
              "drat     0\n",
              "wt       0\n",
              "qsec     0\n",
              "vs       0\n",
              "am       0\n",
              "gear     0\n",
              "carb     0\n",
              "dtype: int64"
            ]
          },
          "metadata": {
            "tags": []
          },
          "execution_count": 6
        }
      ]
    },
    {
      "cell_type": "markdown",
      "metadata": {
        "id": "dneg5p1ar3lo"
      },
      "source": [
        "**conferindo se o target é binário ou ordinal**"
      ]
    },
    {
      "cell_type": "code",
      "metadata": {
        "id": "lCnUjW4urnaH",
        "outputId": "bf4d6616-d27e-43a5-dec1-2eec9c4e0e93",
        "colab": {
          "base_uri": "https://localhost:8080/",
          "height": 279
        }
      },
      "source": [
        "sns.countplot(x='am',data= carros);"
      ],
      "execution_count": 9,
      "outputs": [
        {
          "output_type": "display_data",
          "data": {
            "image/png": "[encoded data removed]",
            "text/plain": [
              "<Figure size 432x288 with 1 Axes>"
            ]
          },
          "metadata": {
            "tags": [],
            "needs_background": "light"
          }
        }
      ]
    },
    {
      "cell_type": "markdown",
      "metadata": {
        "id": "KcAFOUT2sW7q"
      },
      "source": [
        "**Conferindo se o dado é grande o suficiente**"
      ]
    },
    {
      "cell_type": "code",
      "metadata": {
        "id": "g8R02LxSr1li",
        "outputId": "774429f3-5655-480a-fb1c-dfa8cd7b5fb2",
        "colab": {
          "base_uri": "https://localhost:8080/"
        }
      },
      "source": [
        "carros.info()"
      ],
      "execution_count": 10,
      "outputs": [
        {
          "output_type": "stream",
          "text": [
            "<class 'pandas.core.frame.DataFrame'>\n",
            "RangeIndex: 32 entries, 0 to 31\n",
            "Data columns (total 12 columns):\n",
            " #   Column  Non-Null Count  Dtype  \n",
            "---  ------  --------------  -----  \n",
            " 0   model   32 non-null     object \n",
            " 1   mpg     32 non-null     float64\n",
            " 2   cyl     32 non-null     int64  \n",
            " 3   disp    32 non-null     float64\n",
            " 4   hp      32 non-null     int64  \n",
            " 5   drat    32 non-null     float64\n",
            " 6   wt      32 non-null     float64\n",
            " 7   qsec    32 non-null     float64\n",
            " 8   vs      32 non-null     int64  \n",
            " 9   am      32 non-null     int64  \n",
            " 10  gear    32 non-null     int64  \n",
            " 11  carb    32 non-null     int64  \n",
            "dtypes: float64(5), int64(6), object(1)\n",
            "memory usage: 3.1+ KB\n"
          ],
          "name": "stdout"
        }
      ]
    },
    {
      "cell_type": "markdown",
      "metadata": {
        "id": "Sgsfdxg5ssbv"
      },
      "source": [
        "Tem que ter pelo menos 50, e nosso dataset tem apenas 32, como é apenas para estudo vamos continuar como se tivesse mais de 50 observações."
      ]
    },
    {
      "cell_type": "markdown",
      "metadata": {
        "id": "4wdjOI-ytBpy"
      },
      "source": [
        "**Deploying and evaluating your model**"
      ]
    },
    {
      "cell_type": "code",
      "metadata": {
        "id": "DGclcERsskD1"
      },
      "source": [
        "X = scale(carros_dados)"
      ],
      "execution_count": 11,
      "outputs": []
    },
    {
      "cell_type": "code",
      "metadata": {
        "id": "_F4zoR9otX9s",
        "outputId": "77850973-9672-48f6-f385-d6e7b03b4300",
        "colab": {
          "base_uri": "https://localhost:8080/"
        }
      },
      "source": [
        "reg_log = LogisticRegression().fit(X,y)\n",
        "print(reg_log.score(X,y))"
      ],
      "execution_count": 13,
      "outputs": [
        {
          "output_type": "stream",
          "text": [
            "0.8125\n"
          ],
          "name": "stdout"
        }
      ]
    },
    {
      "cell_type": "code",
      "metadata": {
        "id": "ZfWejCRPtyKX",
        "outputId": "cb90b0af-50eb-484f-dae6-338f8b13c44d",
        "colab": {
          "base_uri": "https://localhost:8080/"
        }
      },
      "source": [
        "y_predito = reg_log.predict(X)\n",
        "print(classification_report(y,y_predito))"
      ],
      "execution_count": 14,
      "outputs": [
        {
          "output_type": "stream",
          "text": [
            "              precision    recall  f1-score   support\n",
            "\n",
            "           0       0.88      0.79      0.83        19\n",
            "           1       0.73      0.85      0.79        13\n",
            "\n",
            "    accuracy                           0.81        32\n",
            "   macro avg       0.81      0.82      0.81        32\n",
            "weighted avg       0.82      0.81      0.81        32\n",
            "\n"
          ],
          "name": "stdout"
        }
      ]
    }
  ]
}