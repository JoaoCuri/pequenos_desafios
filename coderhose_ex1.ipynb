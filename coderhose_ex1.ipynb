{
  "nbformat": 4,
  "nbformat_minor": 0,
  "metadata": {
    "colab": {
      "name": "coderhose_ex1.ipynb",
      "provenance": [],
      "authorship_tag": "ABX9TyNtid3nhwWQ/CXxHcgg/hwI",
      "include_colab_link": true
    },
    "kernelspec": {
      "name": "python3",
      "display_name": "Python 3"
    },
    "language_info": {
      "name": "python"
    }
  },
  "cells": [
    {
      "cell_type": "markdown",
      "metadata": {
        "id": "view-in-github",
        "colab_type": "text"
      },
      "source": [
        "<a href=\"https://colab.research.google.com/github/JoaoCuri/pequenos_desafios/blob/master/coderhose_ex1.ipynb\" target=\"_parent\"><img src=\"https://colab.research.google.com/assets/colab-badge.svg\" alt=\"Open In Colab\"/></a>"
      ]
    },
    {
      "cell_type": "markdown",
      "source": [
        "1. Escrever uma função que calcula o fatorial de qualquer número."
      ],
      "metadata": {
        "id": "re3wGCzqyMTO"
      }
    },
    {
      "cell_type": "code",
      "execution_count": 1,
      "metadata": {
        "colab": {
          "base_uri": "https://localhost:8080/"
        },
        "id": "HVdWKDD2yKcq",
        "outputId": "4daf7ef9-aacf-4de1-e7d2-63ea3831f4fe"
      },
      "outputs": [
        {
          "output_type": "stream",
          "name": "stdout",
          "text": [
            "digite um numero inteiro: 5\n",
            "120\n"
          ]
        }
      ],
      "source": [
        "#-------------------------------------------\n",
        "#---Função----------------------------------\n",
        "#-------------------------------------------\n",
        "def fatorial(n):\n",
        "  fat=1\n",
        "  for i in range(1,n+1):\n",
        "    fat*=i\n",
        "  print(fat)\n",
        "#--------------------------------------------\n",
        "n=int(input('digite um numero inteiro: '))# aqui faz a entrada do número\n",
        "fatorial(n)"
      ]
    },
    {
      "cell_type": "markdown",
      "source": [
        "2. Escreve uma função que calcula a soma de uma série de números, começando do por um numero qualquer e terminando pelo maior"
      ],
      "metadata": {
        "id": "WIHR9-x7zQTZ"
      }
    },
    {
      "cell_type": "code",
      "source": [
        "n=int(input(\"Quantos números terá a sua série: \"))\n",
        "\n",
        "\n",
        "def soma():\n",
        "  serie=[]\n",
        "  for i in range(1,n+1):\n",
        "    x=int(input(f\"número {i} da sua série: \"))\n",
        "    serie.append(x)\n",
        "\n",
        "  print(f\"os números que digitou foi {serie} \")  \n",
        "  serie=sorted(serie)\n",
        "  print(f\"sendo o maior valor:{serie[-1]}\")\n",
        "\n",
        "\n",
        "  sum=0\n",
        "  for l in serie:\n",
        "    sum+=l\n",
        "    print(sum)\n",
        "  print(f\"a soma é: {sum}\")\n",
        "\n",
        "soma()\n"
      ],
      "metadata": {
        "colab": {
          "base_uri": "https://localhost:8080/"
        },
        "id": "WNe1ix2fzu9A",
        "outputId": "a1b6259e-d4f0-40a7-d945-2e809bf78929"
      },
      "execution_count": 10,
      "outputs": [
        {
          "output_type": "stream",
          "name": "stdout",
          "text": [
            "Quantos números terá a sua série: 3\n",
            "número 1 da sua série: 5\n",
            "número 2 da sua série: 2\n",
            "número 3 da sua série: 1\n",
            "os números que digitou foi [5, 2, 1] \n",
            "sendo o maior valor:5\n",
            "1\n",
            "3\n",
            "8\n",
            "a soma é: 8\n"
          ]
        }
      ]
    }
  ]
}