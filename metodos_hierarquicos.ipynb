{
  "nbformat": 4,
  "nbformat_minor": 0,
  "metadata": {
    "colab": {
      "name": "metodos_hierarquicos.ipynb",
      "provenance": [],
      "authorship_tag": "ABX9TyOs+ou4SiczTJu6gXlMH5Q1",
      "include_colab_link": true
    },
    "kernelspec": {
      "name": "python3",
      "display_name": "Python 3"
    }
  },
  "cells": [
    {
      "cell_type": "markdown",
      "metadata": {
        "id": "view-in-github",
        "colab_type": "text"
      },
      "source": [
        "<a href=\"https://colab.research.google.com/github/JoaoCuri/pequenos_desafios/blob/master/metodos_hierarquicos.ipynb\" target=\"_parent\"><img src=\"https://colab.research.google.com/assets/colab-badge.svg\" alt=\"Open In Colab\"/></a>"
      ]
    },
    {
      "cell_type": "markdown",
      "metadata": {
        "id": "uHPgpYWw1m57"
      },
      "source": [
        "**Clusterização hierarquica**\n",
        "\n",
        "É um método não supervisionado que pode ser usado para prever agrupamentos baseados na distância entre observações. Assim como o blockspot é uma forma visual de identificar out layers, na clusterização hierárquica nós temos o que chamamos de \"dendrograma\".\n",
        "\n",
        "É um gráfico em formato de árvore que distribui os seus dados com base na distância e nos permite encontrar subgrupos para a clusterização. "
      ]
    },
    {
      "cell_type": "markdown",
      "metadata": {
        "id": "ongRdkBX3bdw"
      },
      "source": [
        "Podemos usar a clusterização hierarquica:\n",
        "\n",
        "1 - Gerenciamento de produtos hospitalares\n",
        "\n",
        "2 - Linguágem genética\n",
        "\n",
        "3 - Segmentação de usuário\n",
        "\n",
        "4 - Análise de redes socias"
      ]
    },
    {
      "cell_type": "markdown",
      "metadata": {
        "id": "LftEUZQV4VkR"
      },
      "source": [
        "Assim como o KMeans precisamos informar quantos centroides devemos usar, aí é que entra Dendograma.\n",
        "\n",
        "Parametros importantes:\n",
        "\n",
        "**Métricas de distancia**\n",
        "\n",
        "Euclidiano\n",
        "\n",
        "Manhattan\n",
        "\n",
        "Cosseno\n",
        "\n",
        "**Parametros de conexão**\n",
        "\n",
        "Ward\n",
        "\n",
        "Complete\n",
        "\n",
        "Average\n",
        "\n",
        "*Metodo de seleçao de parametros: tentativa e erro*"
      ]
    },
    {
      "cell_type": "code",
      "metadata": {
        "id": "PBjHghaD1a_5"
      },
      "source": [
        "import pandas as pd\n",
        "import numpy as np\n",
        "import seaborn as sns\n",
        "import matplotlib.pyplot as plt\n",
        "from matplotlib import rcParams\n",
        "from scipy.cluster.hierarchy import dendrogram, linkage\n",
        "from sklearn.cluster import AgglomerativeClustering\n",
        "from sklearn.metrics import accuracy_score\n"
      ],
      "execution_count": 14,
      "outputs": []
    },
    {
      "cell_type": "code",
      "metadata": {
        "id": "seaKGeMtKvpD"
      },
      "source": [
        "np.set_printoptions(precision=4,suppress=True)\n",
        "plt.figure(figsize=(10,3))\n",
        "%matplotlib inline\n",
        "plt.style.use('seaborn-whitegrid')"
      ],
      "execution_count": 15,
      "outputs": []
    },
    {
      "cell_type": "code",
      "metadata": {
        "id": "X9gu8RLbP_6_",
        "outputId": "d2a9330a-ee8d-44e5-e226-0bc4d91b6426",
        "colab": {
          "base_uri": "https://localhost:8080/",
          "height": 202
        }
      },
      "source": [
        "carros = pd.read_csv('https://gist.githubusercontent.com/noamross/e5d3e859aa0c794be10b/raw/b999fb4425b54c63cab088c0ce2c0d6ce961a563/cars.csv')\n",
        "carros.head()"
      ],
      "execution_count": 16,
      "outputs": [
        {
          "output_type": "execute_result",
          "data": {
            "text/html": [
              "<div>\n",
              "<style scoped>\n",
              "    .dataframe tbody tr th:only-of-type {\n",
              "        vertical-align: middle;\n",
              "    }\n",
              "\n",
              "    .dataframe tbody tr th {\n",
              "        vertical-align: top;\n",
              "    }\n",
              "\n",
              "    .dataframe thead th {\n",
              "        text-align: right;\n",
              "    }\n",
              "</style>\n",
              "<table border=\"1\" class=\"dataframe\">\n",
              "  <thead>\n",
              "    <tr style=\"text-align: right;\">\n",
              "      <th></th>\n",
              "      <th>Unnamed: 0</th>\n",
              "      <th>mpg</th>\n",
              "      <th>cyl</th>\n",
              "      <th>disp</th>\n",
              "      <th>hp</th>\n",
              "      <th>drat</th>\n",
              "      <th>wt</th>\n",
              "      <th>qsec</th>\n",
              "      <th>vs</th>\n",
              "      <th>am</th>\n",
              "      <th>gear</th>\n",
              "      <th>carb</th>\n",
              "    </tr>\n",
              "  </thead>\n",
              "  <tbody>\n",
              "    <tr>\n",
              "      <th>0</th>\n",
              "      <td>Mazda RX4</td>\n",
              "      <td>21.0</td>\n",
              "      <td>6</td>\n",
              "      <td>160.0</td>\n",
              "      <td>110</td>\n",
              "      <td>3.90</td>\n",
              "      <td>2.620</td>\n",
              "      <td>16.46</td>\n",
              "      <td>0</td>\n",
              "      <td>1</td>\n",
              "      <td>4</td>\n",
              "      <td>4</td>\n",
              "    </tr>\n",
              "    <tr>\n",
              "      <th>1</th>\n",
              "      <td>Mazda RX4 Wag</td>\n",
              "      <td>21.0</td>\n",
              "      <td>6</td>\n",
              "      <td>160.0</td>\n",
              "      <td>110</td>\n",
              "      <td>3.90</td>\n",
              "      <td>2.875</td>\n",
              "      <td>17.02</td>\n",
              "      <td>0</td>\n",
              "      <td>1</td>\n",
              "      <td>4</td>\n",
              "      <td>4</td>\n",
              "    </tr>\n",
              "    <tr>\n",
              "      <th>2</th>\n",
              "      <td>Datsun 710</td>\n",
              "      <td>22.8</td>\n",
              "      <td>4</td>\n",
              "      <td>108.0</td>\n",
              "      <td>93</td>\n",
              "      <td>3.85</td>\n",
              "      <td>2.320</td>\n",
              "      <td>18.61</td>\n",
              "      <td>1</td>\n",
              "      <td>1</td>\n",
              "      <td>4</td>\n",
              "      <td>1</td>\n",
              "    </tr>\n",
              "    <tr>\n",
              "      <th>3</th>\n",
              "      <td>Hornet 4 Drive</td>\n",
              "      <td>21.4</td>\n",
              "      <td>6</td>\n",
              "      <td>258.0</td>\n",
              "      <td>110</td>\n",
              "      <td>3.08</td>\n",
              "      <td>3.215</td>\n",
              "      <td>19.44</td>\n",
              "      <td>1</td>\n",
              "      <td>0</td>\n",
              "      <td>3</td>\n",
              "      <td>1</td>\n",
              "    </tr>\n",
              "    <tr>\n",
              "      <th>4</th>\n",
              "      <td>Hornet Sportabout</td>\n",
              "      <td>18.7</td>\n",
              "      <td>8</td>\n",
              "      <td>360.0</td>\n",
              "      <td>175</td>\n",
              "      <td>3.15</td>\n",
              "      <td>3.440</td>\n",
              "      <td>17.02</td>\n",
              "      <td>0</td>\n",
              "      <td>0</td>\n",
              "      <td>3</td>\n",
              "      <td>2</td>\n",
              "    </tr>\n",
              "  </tbody>\n",
              "</table>\n",
              "</div>"
            ],
            "text/plain": [
              "          Unnamed: 0   mpg  cyl   disp   hp  ...   qsec  vs  am  gear  carb\n",
              "0          Mazda RX4  21.0    6  160.0  110  ...  16.46   0   1     4     4\n",
              "1      Mazda RX4 Wag  21.0    6  160.0  110  ...  17.02   0   1     4     4\n",
              "2         Datsun 710  22.8    4  108.0   93  ...  18.61   1   1     4     1\n",
              "3     Hornet 4 Drive  21.4    6  258.0  110  ...  19.44   1   0     3     1\n",
              "4  Hornet Sportabout  18.7    8  360.0  175  ...  17.02   0   0     3     2\n",
              "\n",
              "[5 rows x 12 columns]"
            ]
          },
          "metadata": {
            "tags": []
          },
          "execution_count": 16
        }
      ]
    },
    {
      "cell_type": "code",
      "metadata": {
        "id": "MdGdolMSQSno"
      },
      "source": [
        "X = carros[['mpg','disp','hp','wt']].values\n",
        "y = carros['am'].values"
      ],
      "execution_count": 17,
      "outputs": []
    },
    {
      "cell_type": "markdown",
      "metadata": {
        "id": "GN5VCICFRlt5"
      },
      "source": [
        "**Usando o Scipy para gerar dendogramas**"
      ]
    },
    {
      "cell_type": "code",
      "metadata": {
        "id": "rKRcyFTiStsD"
      },
      "source": [
        "Z = linkage(X,'ward')"
      ],
      "execution_count": 18,
      "outputs": []
    },
    {
      "cell_type": "code",
      "metadata": {
        "id": "QWOciHN0RCwy",
        "outputId": "ca566e53-846d-447b-d841-15eef7cd663e",
        "colab": {
          "base_uri": "https://localhost:8080/",
          "height": 304
        }
      },
      "source": [
        "dendrogram(Z,truncate_mode='lastp',p=12,leaf_rotation=45,leaf_font_size=15,show_contracted=True)\n",
        "\n",
        "plt.title('demograma')\n",
        "plt.xlabel('Tamanho do cluster')\n",
        "plt.ylabel('Distância')\n",
        "\n",
        "plt.axhline(y=500)\n",
        "plt.axhline(y=150)\n",
        "plt.show()\n"
      ],
      "execution_count": 19,
      "outputs": [
        {
          "output_type": "display_data",
          "data": {
            "image/png": "[encoded data removed]",
            "text/plain": [
              "<Figure size 432x288 with 1 Axes>"
            ]
          },
          "metadata": {
            "tags": []
          }
        }
      ]
    },
    {
      "cell_type": "markdown",
      "metadata": {
        "id": "KV-ZFTmbhNkg"
      },
      "source": [
        "**Gerando Clusters hiráquicos**"
      ]
    },
    {
      "cell_type": "code",
      "metadata": {
        "id": "wAhllZ48S_rX",
        "outputId": "9cd21f31-711a-403e-d2dd-222219e9f2f8",
        "colab": {
          "base_uri": "https://localhost:8080/"
        }
      },
      "source": [
        "k = 2\n",
        "hclusters = AgglomerativeClustering(n_clusters=k,affinity='euclidean',linkage='ward').fit(X)\n",
        "accuracy_score(y,hclusters.labels_)"
      ],
      "execution_count": 21,
      "outputs": [
        {
          "output_type": "execute_result",
          "data": {
            "text/plain": [
              "0.78125"
            ]
          },
          "metadata": {
            "tags": []
          },
          "execution_count": 21
        }
      ]
    },
    {
      "cell_type": "code",
      "metadata": {
        "id": "tkuoe3KSiZi7",
        "outputId": "2eed0b34-f0c0-4849-ea80-dfcc42133bbe",
        "colab": {
          "base_uri": "https://localhost:8080/"
        }
      },
      "source": [
        "k = 2\n",
        "hclusters = AgglomerativeClustering(n_clusters=k,affinity='euclidean',linkage='ward').fit(X)\n",
        "accuracy_score(y,hclusters.labels_)"
      ],
      "execution_count": 22,
      "outputs": [
        {
          "output_type": "execute_result",
          "data": {
            "text/plain": [
              "0.78125"
            ]
          },
          "metadata": {
            "tags": []
          },
          "execution_count": 22
        }
      ]
    },
    {
      "cell_type": "code",
      "metadata": {
        "id": "6eao3jaDibW2",
        "outputId": "737b2f97-beb2-4524-9659-25ef2f8a01bf",
        "colab": {
          "base_uri": "https://localhost:8080/"
        }
      },
      "source": [
        "k = 2\n",
        "hclusters = AgglomerativeClustering(n_clusters=k,affinity='euclidean',linkage='complete').fit(X)\n",
        "accuracy_score(y,hclusters.labels_)"
      ],
      "execution_count": 23,
      "outputs": [
        {
          "output_type": "execute_result",
          "data": {
            "text/plain": [
              "0.4375"
            ]
          },
          "metadata": {
            "tags": []
          },
          "execution_count": 23
        }
      ]
    },
    {
      "cell_type": "code",
      "metadata": {
        "id": "fgDggDOLibJH",
        "outputId": "914d10f5-037f-499a-f322-8e70dff402c5",
        "colab": {
          "base_uri": "https://localhost:8080/"
        }
      },
      "source": [
        "k = 2\n",
        "hclusters = AgglomerativeClustering(n_clusters=k,affinity='euclidean',linkage='average').fit(X)\n",
        "accuracy_score(y,hclusters.labels_)"
      ],
      "execution_count": 24,
      "outputs": [
        {
          "output_type": "execute_result",
          "data": {
            "text/plain": [
              "0.78125"
            ]
          },
          "metadata": {
            "tags": []
          },
          "execution_count": 24
        }
      ]
    },
    {
      "cell_type": "code",
      "metadata": {
        "id": "XUobmZsrifZG",
        "outputId": "c8b92242-0496-4907-b6bd-aa1d5bfa83d5",
        "colab": {
          "base_uri": "https://localhost:8080/"
        }
      },
      "source": [
        "k = 2\n",
        "hclusters = AgglomerativeClustering(n_clusters=k,affinity='manhattan',linkage='average').fit(X)\n",
        "accuracy_score(y,hclusters.labels_)"
      ],
      "execution_count": 25,
      "outputs": [
        {
          "output_type": "execute_result",
          "data": {
            "text/plain": [
              "0.71875"
            ]
          },
          "metadata": {
            "tags": []
          },
          "execution_count": 25
        }
      ]
    },
    {
      "cell_type": "markdown",
      "metadata": {
        "id": "HSdP7ZJ-jB6o"
      },
      "source": [
        "testar sempre para encontar a que melhor funciona com os seus dados."
      ]
    },
    {
      "cell_type": "code",
      "metadata": {
        "id": "njF_qDcajKvf"
      },
      "source": [
        ""
      ],
      "execution_count": null,
      "outputs": []
    }
  ]
}